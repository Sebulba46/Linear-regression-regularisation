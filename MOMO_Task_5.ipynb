{
  "nbformat": 4,
  "nbformat_minor": 0,
  "metadata": {
    "colab": {
      "provenance": [],
      "toc_visible": true
    },
    "kernelspec": {
      "name": "python3",
      "display_name": "Python 3"
    },
    "language_info": {
      "name": "python"
    }
  },
  "cells": [
    {
      "cell_type": "markdown",
      "source": [
        "# 0. Импорты"
      ],
      "metadata": {
        "id": "csAl2xIRUWGq"
      }
    },
    {
      "cell_type": "code",
      "execution_count": null,
      "metadata": {
        "id": "8gcXbtFA76S_",
        "colab": {
          "base_uri": "https://localhost:8080/"
        },
        "outputId": "470e91e4-e62b-4a86-eb15-556df6348bc6"
      },
      "outputs": [
        {
          "output_type": "stream",
          "name": "stderr",
          "text": [
            "/home/sebulba/anaconda3/lib/python3.9/site-packages/scipy/__init__.py:146: UserWarning: A NumPy version >=1.16.5 and <1.23.0 is required for this version of SciPy (detected version 1.23.5\n",
            "  warnings.warn(f\"A NumPy version >={np_minversion} and <{np_maxversion}\"\n"
          ]
        }
      ],
      "source": [
        "import pandas as pd\n",
        "from sklearn.linear_model import RidgeCV, LogisticRegressionCV\n",
        "from sklearn.metrics import r2_score, classification_report, mean_squared_error, mean_absolute_error, mean_absolute_percentage_error\n",
        "from sklearn.pipeline import Pipeline\n",
        "from sklearn.preprocessing import MinMaxScaler, OneHotEncoder, PolynomialFeatures, StandardScaler\n",
        "from sklearn.model_selection import train_test_split\n",
        "from sklearn.compose import ColumnTransformer\n",
        "from sklearn.decomposition import PCA\n",
        "import numpy as np\n",
        "import plotly.io as pio\n",
        "import plotly.express as px\n",
        "\n",
        "pio.renderers.default = \"colab\""
      ]
    },
    {
      "cell_type": "code",
      "source": [
        "def plot_weights(coefs, columns=None, show_cols=False):\n",
        "  df_plot = pd.DataFrame()\n",
        "\n",
        "  df_plot['y'] = coefs.squeeze()\n",
        "  if show_cols:\n",
        "    df_plot['x'] = columns\n",
        "  else:\n",
        "    df_plot['x'] = ['w' + str(s) for s in range(len(coefs.squeeze()))]\n",
        "  df_plot['c'] = df_plot.y.apply(lambda x: '>=0' if x >= 0 else '<0')\n",
        "\n",
        "\n",
        "  return px.bar(df_plot, y='y', x='x', color='c', color_discrete_map={'>=0': 'blue', '<0': 'red'}).update_xaxes(categoryorder='array', categoryarray=df_plot['x'])"
      ],
      "metadata": {
        "id": "qzf-2GOqMjpD"
      },
      "execution_count": null,
      "outputs": []
    },
    {
      "cell_type": "markdown",
      "source": [
        "# ОПТИМИЗАЦИЯ ЛИНЕЙНОЙ РЕГРЕССИИ"
      ],
      "metadata": {
        "id": "W_lqto7kUbnf"
      }
    },
    {
      "cell_type": "markdown",
      "source": [
        "## 1.  Для набора данных Cars Moldova"
      ],
      "metadata": {
        "id": "I4mD1a3OUeLL"
      }
    },
    {
      "cell_type": "markdown",
      "source": [
        "Загрузим датасет"
      ],
      "metadata": {
        "id": "Uk_ZLAtiKFVD"
      }
    },
    {
      "cell_type": "code",
      "source": [
        "df = pd.read_csv('cars_moldova_feature.csv').drop(columns='Unnamed: 0')\n",
        "df['Year'] = pd.to_datetime(df['Year'].apply(lambda x: str(x) + '-01-01 00:00:01'))\n",
        "df['Year'] = df.Year.values.astype(np.int64) // 10 ** 9\n",
        "df"
      ],
      "metadata": {
        "colab": {
          "base_uri": "https://localhost:8080/",
          "height": 424
        },
        "id": "o0Qzn-gTaAPx",
        "outputId": "7c99023a-9d33-49e8-e26f-b594bc554fc3"
      },
      "execution_count": null,
      "outputs": [
        {
          "output_type": "execute_result",
          "data": {
            "text/plain": [
              "             Make         Model        Year      Style  Distance  \\\n",
              "0          Toyota         Prius  1293840001  Hatchback  195000.0   \n",
              "1         Renault  Grand Scenic  1388534401  Universal  135000.0   \n",
              "2      Volkswagen          Golf   883612801  Hatchback       1.0   \n",
              "3         Renault        Laguna  1325376001  Universal  110000.0   \n",
              "4            Opel         Astra  1136073601  Universal  200000.0   \n",
              "...           ...           ...         ...        ...       ...   \n",
              "36019  Land Rover    Freelander  1009843201  Crossover  225000.0   \n",
              "36020       Dacia     Logan Mcv  1420070401  Universal   89000.0   \n",
              "36021     Renault         Modus  1230768001  Hatchback     225.0   \n",
              "36022       Mazda             6  1136073601      Combi  370000.0   \n",
              "36023     Renault  Grand Scenic  1136073601    Minivan  300000.0   \n",
              "\n",
              "       Engine_capacity(cm3)     Fuel_type Transmission  Price(euro)  \\\n",
              "0                    1800.0        Hybrid    Automatic       7750.0   \n",
              "1                    1500.0        Diesel       Manual       8550.0   \n",
              "2                    1400.0        Petrol       Manual       2200.0   \n",
              "3                    1500.0        Diesel       Manual       6550.0   \n",
              "4                    1600.0  Metan/Propan       Manual       4100.0   \n",
              "...                     ...           ...          ...          ...   \n",
              "36019                1800.0  Metan/Propan       Manual       4400.0   \n",
              "36020                1500.0        Diesel       Manual       7000.0   \n",
              "36021                1500.0        Diesel       Manual       4500.0   \n",
              "36022                2000.0        Diesel       Manual       4000.0   \n",
              "36023                1500.0        Diesel       Manual       4000.0   \n",
              "\n",
              "       year_distance distance_type Make_rarity Price_cat Year_category  \n",
              "0       17727.272727          high        rare     cheap       regular  \n",
              "1       16875.000000       average        rare     cheap       regular  \n",
              "2           0.041667       optimal        rare   average           old  \n",
              "3       11000.000000       average        rare     cheap       regular  \n",
              "4       12500.000000          high        rare   average           old  \n",
              "...              ...           ...         ...       ...           ...  \n",
              "36019   11250.000000          high      common   average           old  \n",
              "36020   12714.285714       optimal        rare     cheap       regular  \n",
              "36021      17.307692       optimal        rare   average           old  \n",
              "36022   23125.000000     very_high        rare   average           old  \n",
              "36023   18750.000000     very_high        rare   average           old  \n",
              "\n",
              "[36024 rows x 14 columns]"
            ],
            "text/html": [
              "<div>\n",
              "<style scoped>\n",
              "    .dataframe tbody tr th:only-of-type {\n",
              "        vertical-align: middle;\n",
              "    }\n",
              "\n",
              "    .dataframe tbody tr th {\n",
              "        vertical-align: top;\n",
              "    }\n",
              "\n",
              "    .dataframe thead th {\n",
              "        text-align: right;\n",
              "    }\n",
              "</style>\n",
              "<table border=\"1\" class=\"dataframe\">\n",
              "  <thead>\n",
              "    <tr style=\"text-align: right;\">\n",
              "      <th></th>\n",
              "      <th>Make</th>\n",
              "      <th>Model</th>\n",
              "      <th>Year</th>\n",
              "      <th>Style</th>\n",
              "      <th>Distance</th>\n",
              "      <th>Engine_capacity(cm3)</th>\n",
              "      <th>Fuel_type</th>\n",
              "      <th>Transmission</th>\n",
              "      <th>Price(euro)</th>\n",
              "      <th>year_distance</th>\n",
              "      <th>distance_type</th>\n",
              "      <th>Make_rarity</th>\n",
              "      <th>Price_cat</th>\n",
              "      <th>Year_category</th>\n",
              "    </tr>\n",
              "  </thead>\n",
              "  <tbody>\n",
              "    <tr>\n",
              "      <th>0</th>\n",
              "      <td>Toyota</td>\n",
              "      <td>Prius</td>\n",
              "      <td>1293840001</td>\n",
              "      <td>Hatchback</td>\n",
              "      <td>195000.0</td>\n",
              "      <td>1800.0</td>\n",
              "      <td>Hybrid</td>\n",
              "      <td>Automatic</td>\n",
              "      <td>7750.0</td>\n",
              "      <td>17727.272727</td>\n",
              "      <td>high</td>\n",
              "      <td>rare</td>\n",
              "      <td>cheap</td>\n",
              "      <td>regular</td>\n",
              "    </tr>\n",
              "    <tr>\n",
              "      <th>1</th>\n",
              "      <td>Renault</td>\n",
              "      <td>Grand Scenic</td>\n",
              "      <td>1388534401</td>\n",
              "      <td>Universal</td>\n",
              "      <td>135000.0</td>\n",
              "      <td>1500.0</td>\n",
              "      <td>Diesel</td>\n",
              "      <td>Manual</td>\n",
              "      <td>8550.0</td>\n",
              "      <td>16875.000000</td>\n",
              "      <td>average</td>\n",
              "      <td>rare</td>\n",
              "      <td>cheap</td>\n",
              "      <td>regular</td>\n",
              "    </tr>\n",
              "    <tr>\n",
              "      <th>2</th>\n",
              "      <td>Volkswagen</td>\n",
              "      <td>Golf</td>\n",
              "      <td>883612801</td>\n",
              "      <td>Hatchback</td>\n",
              "      <td>1.0</td>\n",
              "      <td>1400.0</td>\n",
              "      <td>Petrol</td>\n",
              "      <td>Manual</td>\n",
              "      <td>2200.0</td>\n",
              "      <td>0.041667</td>\n",
              "      <td>optimal</td>\n",
              "      <td>rare</td>\n",
              "      <td>average</td>\n",
              "      <td>old</td>\n",
              "    </tr>\n",
              "    <tr>\n",
              "      <th>3</th>\n",
              "      <td>Renault</td>\n",
              "      <td>Laguna</td>\n",
              "      <td>1325376001</td>\n",
              "      <td>Universal</td>\n",
              "      <td>110000.0</td>\n",
              "      <td>1500.0</td>\n",
              "      <td>Diesel</td>\n",
              "      <td>Manual</td>\n",
              "      <td>6550.0</td>\n",
              "      <td>11000.000000</td>\n",
              "      <td>average</td>\n",
              "      <td>rare</td>\n",
              "      <td>cheap</td>\n",
              "      <td>regular</td>\n",
              "    </tr>\n",
              "    <tr>\n",
              "      <th>4</th>\n",
              "      <td>Opel</td>\n",
              "      <td>Astra</td>\n",
              "      <td>1136073601</td>\n",
              "      <td>Universal</td>\n",
              "      <td>200000.0</td>\n",
              "      <td>1600.0</td>\n",
              "      <td>Metan/Propan</td>\n",
              "      <td>Manual</td>\n",
              "      <td>4100.0</td>\n",
              "      <td>12500.000000</td>\n",
              "      <td>high</td>\n",
              "      <td>rare</td>\n",
              "      <td>average</td>\n",
              "      <td>old</td>\n",
              "    </tr>\n",
              "    <tr>\n",
              "      <th>...</th>\n",
              "      <td>...</td>\n",
              "      <td>...</td>\n",
              "      <td>...</td>\n",
              "      <td>...</td>\n",
              "      <td>...</td>\n",
              "      <td>...</td>\n",
              "      <td>...</td>\n",
              "      <td>...</td>\n",
              "      <td>...</td>\n",
              "      <td>...</td>\n",
              "      <td>...</td>\n",
              "      <td>...</td>\n",
              "      <td>...</td>\n",
              "      <td>...</td>\n",
              "    </tr>\n",
              "    <tr>\n",
              "      <th>36019</th>\n",
              "      <td>Land Rover</td>\n",
              "      <td>Freelander</td>\n",
              "      <td>1009843201</td>\n",
              "      <td>Crossover</td>\n",
              "      <td>225000.0</td>\n",
              "      <td>1800.0</td>\n",
              "      <td>Metan/Propan</td>\n",
              "      <td>Manual</td>\n",
              "      <td>4400.0</td>\n",
              "      <td>11250.000000</td>\n",
              "      <td>high</td>\n",
              "      <td>common</td>\n",
              "      <td>average</td>\n",
              "      <td>old</td>\n",
              "    </tr>\n",
              "    <tr>\n",
              "      <th>36020</th>\n",
              "      <td>Dacia</td>\n",
              "      <td>Logan Mcv</td>\n",
              "      <td>1420070401</td>\n",
              "      <td>Universal</td>\n",
              "      <td>89000.0</td>\n",
              "      <td>1500.0</td>\n",
              "      <td>Diesel</td>\n",
              "      <td>Manual</td>\n",
              "      <td>7000.0</td>\n",
              "      <td>12714.285714</td>\n",
              "      <td>optimal</td>\n",
              "      <td>rare</td>\n",
              "      <td>cheap</td>\n",
              "      <td>regular</td>\n",
              "    </tr>\n",
              "    <tr>\n",
              "      <th>36021</th>\n",
              "      <td>Renault</td>\n",
              "      <td>Modus</td>\n",
              "      <td>1230768001</td>\n",
              "      <td>Hatchback</td>\n",
              "      <td>225.0</td>\n",
              "      <td>1500.0</td>\n",
              "      <td>Diesel</td>\n",
              "      <td>Manual</td>\n",
              "      <td>4500.0</td>\n",
              "      <td>17.307692</td>\n",
              "      <td>optimal</td>\n",
              "      <td>rare</td>\n",
              "      <td>average</td>\n",
              "      <td>old</td>\n",
              "    </tr>\n",
              "    <tr>\n",
              "      <th>36022</th>\n",
              "      <td>Mazda</td>\n",
              "      <td>6</td>\n",
              "      <td>1136073601</td>\n",
              "      <td>Combi</td>\n",
              "      <td>370000.0</td>\n",
              "      <td>2000.0</td>\n",
              "      <td>Diesel</td>\n",
              "      <td>Manual</td>\n",
              "      <td>4000.0</td>\n",
              "      <td>23125.000000</td>\n",
              "      <td>very_high</td>\n",
              "      <td>rare</td>\n",
              "      <td>average</td>\n",
              "      <td>old</td>\n",
              "    </tr>\n",
              "    <tr>\n",
              "      <th>36023</th>\n",
              "      <td>Renault</td>\n",
              "      <td>Grand Scenic</td>\n",
              "      <td>1136073601</td>\n",
              "      <td>Minivan</td>\n",
              "      <td>300000.0</td>\n",
              "      <td>1500.0</td>\n",
              "      <td>Diesel</td>\n",
              "      <td>Manual</td>\n",
              "      <td>4000.0</td>\n",
              "      <td>18750.000000</td>\n",
              "      <td>very_high</td>\n",
              "      <td>rare</td>\n",
              "      <td>average</td>\n",
              "      <td>old</td>\n",
              "    </tr>\n",
              "  </tbody>\n",
              "</table>\n",
              "<p>36024 rows × 14 columns</p>\n",
              "</div>"
            ]
          },
          "metadata": {},
          "execution_count": 3
        }
      ]
    },
    {
      "cell_type": "markdown",
      "source": [
        "Сделали даты таймштампами, теперь они более полезны для модели"
      ],
      "metadata": {
        "id": "a9XmkgQ3OyAR"
      }
    },
    {
      "cell_type": "code",
      "source": [
        "X = df.drop(columns='Price(euro)')\n",
        "y = df['Price(euro)']"
      ],
      "metadata": {
        "id": "fxNILDwV07e3"
      },
      "execution_count": null,
      "outputs": []
    },
    {
      "cell_type": "code",
      "source": [
        "numeric_features = ['Distance', 'Engine_capacity(cm3)', 'year_distance', 'Year']\n",
        "numeric_transformer = Pipeline(\n",
        "    steps=[('poly', PolynomialFeatures(degree=2, include_bias=False)),  (\"pca\", PCA(n_components=12)), (\"scaler\", MinMaxScaler())]\n",
        ")\n",
        "\n",
        "categorical_features = ['Make', 'Model', 'Style', 'Fuel_type', 'Transmission',\n",
        "                        'distance_type', 'Make_rarity', 'Price_cat', 'Year_category']\n",
        "categorical_transformer = OneHotEncoder(handle_unknown=\"ignore\")\n",
        "\n",
        "\n",
        "preprocessor = ColumnTransformer(\n",
        "    transformers=[\n",
        "        (\"num\", numeric_transformer, numeric_features),\n",
        "        (\"cat\", categorical_transformer, categorical_features)   \n",
        "    ]\n",
        ")"
      ],
      "metadata": {
        "id": "6-YIOO9TyAjH"
      },
      "execution_count": null,
      "outputs": []
    },
    {
      "cell_type": "markdown",
      "source": [
        "Итак, что мы зедсь сделали, идёт в первую очередь создание полиномиальных фичей, а потом уже метод главных компонент, который не особо таки и нужен, так как модель получается не особо сложная, но мы убрали две компоненты, снизив точность всего на пол процента где-то.\n",
        "\n",
        "А дальше просто создание категориальных фич\n",
        "\n",
        "Опытным путём было выявлено, что модель сильно ошибалась, когда мы ей добавили больше полиномиальных фич, которым она давала большие веса, и метрика R2 выходила 0.62, а также когда снижали размерность ниже, чем стоит сейчас."
      ],
      "metadata": {
        "id": "YjOl65I2KINd"
      }
    },
    {
      "cell_type": "code",
      "source": [
        "reg = Pipeline(\n",
        "    steps=[(\"preprocessor\", preprocessor), (\"ridge\", RidgeCV(alphas=(0.1, 1, 3, 6, 10, 15)))]\n",
        ")\n",
        "\n",
        "X_train, X_test, y_train, y_test = train_test_split(X, y, test_size=0.2, random_state=0)\n",
        "\n",
        "reg.fit(X_train, y_train)"
      ],
      "metadata": {
        "colab": {
          "base_uri": "https://localhost:8080/",
          "height": 262
        },
        "id": "o9B-iEzg5Mly",
        "outputId": "ff441d5a-38c3-411b-f501-59db991221f8"
      },
      "execution_count": null,
      "outputs": [
        {
          "output_type": "execute_result",
          "data": {
            "text/plain": [
              "Pipeline(steps=[('preprocessor',\n",
              "                 ColumnTransformer(transformers=[('num',\n",
              "                                                  Pipeline(steps=[('poly',\n",
              "                                                                   PolynomialFeatures(include_bias=False)),\n",
              "                                                                  ('pca',\n",
              "                                                                   PCA(n_components=12)),\n",
              "                                                                  ('scaler',\n",
              "                                                                   MinMaxScaler())]),\n",
              "                                                  ['Distance',\n",
              "                                                   'Engine_capacity(cm3)',\n",
              "                                                   'year_distance', 'Year']),\n",
              "                                                 ('cat',\n",
              "                                                  OneHotEncoder(handle_unknown='ignore'),\n",
              "                                                  ['Make', 'Model', 'Style',\n",
              "                                                   'Fuel_type', 'Transmission',\n",
              "                                                   'distance_type',\n",
              "                                                   'Make_rarity', 'Price_cat',\n",
              "                                                   'Year_category'])])),\n",
              "                ('ridge', RidgeCV(alphas=(0.1, 1, 3, 6, 10, 15)))])"
            ],
            "text/html": [
              "<style>#sk-container-id-1 {color: black;background-color: white;}#sk-container-id-1 pre{padding: 0;}#sk-container-id-1 div.sk-toggleable {background-color: white;}#sk-container-id-1 label.sk-toggleable__label {cursor: pointer;display: block;width: 100%;margin-bottom: 0;padding: 0.3em;box-sizing: border-box;text-align: center;}#sk-container-id-1 label.sk-toggleable__label-arrow:before {content: \"▸\";float: left;margin-right: 0.25em;color: #696969;}#sk-container-id-1 label.sk-toggleable__label-arrow:hover:before {color: black;}#sk-container-id-1 div.sk-estimator:hover label.sk-toggleable__label-arrow:before {color: black;}#sk-container-id-1 div.sk-toggleable__content {max-height: 0;max-width: 0;overflow: hidden;text-align: left;background-color: #f0f8ff;}#sk-container-id-1 div.sk-toggleable__content pre {margin: 0.2em;color: black;border-radius: 0.25em;background-color: #f0f8ff;}#sk-container-id-1 input.sk-toggleable__control:checked~div.sk-toggleable__content {max-height: 200px;max-width: 100%;overflow: auto;}#sk-container-id-1 input.sk-toggleable__control:checked~label.sk-toggleable__label-arrow:before {content: \"▾\";}#sk-container-id-1 div.sk-estimator input.sk-toggleable__control:checked~label.sk-toggleable__label {background-color: #d4ebff;}#sk-container-id-1 div.sk-label input.sk-toggleable__control:checked~label.sk-toggleable__label {background-color: #d4ebff;}#sk-container-id-1 input.sk-hidden--visually {border: 0;clip: rect(1px 1px 1px 1px);clip: rect(1px, 1px, 1px, 1px);height: 1px;margin: -1px;overflow: hidden;padding: 0;position: absolute;width: 1px;}#sk-container-id-1 div.sk-estimator {font-family: monospace;background-color: #f0f8ff;border: 1px dotted black;border-radius: 0.25em;box-sizing: border-box;margin-bottom: 0.5em;}#sk-container-id-1 div.sk-estimator:hover {background-color: #d4ebff;}#sk-container-id-1 div.sk-parallel-item::after {content: \"\";width: 100%;border-bottom: 1px solid gray;flex-grow: 1;}#sk-container-id-1 div.sk-label:hover label.sk-toggleable__label {background-color: #d4ebff;}#sk-container-id-1 div.sk-serial::before {content: \"\";position: absolute;border-left: 1px solid gray;box-sizing: border-box;top: 0;bottom: 0;left: 50%;z-index: 0;}#sk-container-id-1 div.sk-serial {display: flex;flex-direction: column;align-items: center;background-color: white;padding-right: 0.2em;padding-left: 0.2em;position: relative;}#sk-container-id-1 div.sk-item {position: relative;z-index: 1;}#sk-container-id-1 div.sk-parallel {display: flex;align-items: stretch;justify-content: center;background-color: white;position: relative;}#sk-container-id-1 div.sk-item::before, #sk-container-id-1 div.sk-parallel-item::before {content: \"\";position: absolute;border-left: 1px solid gray;box-sizing: border-box;top: 0;bottom: 0;left: 50%;z-index: -1;}#sk-container-id-1 div.sk-parallel-item {display: flex;flex-direction: column;z-index: 1;position: relative;background-color: white;}#sk-container-id-1 div.sk-parallel-item:first-child::after {align-self: flex-end;width: 50%;}#sk-container-id-1 div.sk-parallel-item:last-child::after {align-self: flex-start;width: 50%;}#sk-container-id-1 div.sk-parallel-item:only-child::after {width: 0;}#sk-container-id-1 div.sk-dashed-wrapped {border: 1px dashed gray;margin: 0 0.4em 0.5em 0.4em;box-sizing: border-box;padding-bottom: 0.4em;background-color: white;}#sk-container-id-1 div.sk-label label {font-family: monospace;font-weight: bold;display: inline-block;line-height: 1.2em;}#sk-container-id-1 div.sk-label-container {text-align: center;}#sk-container-id-1 div.sk-container {/* jupyter's `normalize.less` sets `[hidden] { display: none; }` but bootstrap.min.css set `[hidden] { display: none !important; }` so we also need the `!important` here to be able to override the default hidden behavior on the sphinx rendered scikit-learn.org. See: https://github.com/scikit-learn/scikit-learn/issues/21755 */display: inline-block !important;position: relative;}#sk-container-id-1 div.sk-text-repr-fallback {display: none;}</style><div id=\"sk-container-id-1\" class=\"sk-top-container\"><div class=\"sk-text-repr-fallback\"><pre>Pipeline(steps=[(&#x27;preprocessor&#x27;,\n",
              "                 ColumnTransformer(transformers=[(&#x27;num&#x27;,\n",
              "                                                  Pipeline(steps=[(&#x27;poly&#x27;,\n",
              "                                                                   PolynomialFeatures(include_bias=False)),\n",
              "                                                                  (&#x27;pca&#x27;,\n",
              "                                                                   PCA(n_components=12)),\n",
              "                                                                  (&#x27;scaler&#x27;,\n",
              "                                                                   MinMaxScaler())]),\n",
              "                                                  [&#x27;Distance&#x27;,\n",
              "                                                   &#x27;Engine_capacity(cm3)&#x27;,\n",
              "                                                   &#x27;year_distance&#x27;, &#x27;Year&#x27;]),\n",
              "                                                 (&#x27;cat&#x27;,\n",
              "                                                  OneHotEncoder(handle_unknown=&#x27;ignore&#x27;),\n",
              "                                                  [&#x27;Make&#x27;, &#x27;Model&#x27;, &#x27;Style&#x27;,\n",
              "                                                   &#x27;Fuel_type&#x27;, &#x27;Transmission&#x27;,\n",
              "                                                   &#x27;distance_type&#x27;,\n",
              "                                                   &#x27;Make_rarity&#x27;, &#x27;Price_cat&#x27;,\n",
              "                                                   &#x27;Year_category&#x27;])])),\n",
              "                (&#x27;ridge&#x27;, RidgeCV(alphas=(0.1, 1, 3, 6, 10, 15)))])</pre><b>In a Jupyter environment, please rerun this cell to show the HTML representation or trust the notebook. <br />On GitHub, the HTML representation is unable to render, please try loading this page with nbviewer.org.</b></div><div class=\"sk-container\" hidden><div class=\"sk-item sk-dashed-wrapped\"><div class=\"sk-label-container\"><div class=\"sk-label sk-toggleable\"><input class=\"sk-toggleable__control sk-hidden--visually\" id=\"sk-estimator-id-1\" type=\"checkbox\" ><label for=\"sk-estimator-id-1\" class=\"sk-toggleable__label sk-toggleable__label-arrow\">Pipeline</label><div class=\"sk-toggleable__content\"><pre>Pipeline(steps=[(&#x27;preprocessor&#x27;,\n",
              "                 ColumnTransformer(transformers=[(&#x27;num&#x27;,\n",
              "                                                  Pipeline(steps=[(&#x27;poly&#x27;,\n",
              "                                                                   PolynomialFeatures(include_bias=False)),\n",
              "                                                                  (&#x27;pca&#x27;,\n",
              "                                                                   PCA(n_components=12)),\n",
              "                                                                  (&#x27;scaler&#x27;,\n",
              "                                                                   MinMaxScaler())]),\n",
              "                                                  [&#x27;Distance&#x27;,\n",
              "                                                   &#x27;Engine_capacity(cm3)&#x27;,\n",
              "                                                   &#x27;year_distance&#x27;, &#x27;Year&#x27;]),\n",
              "                                                 (&#x27;cat&#x27;,\n",
              "                                                  OneHotEncoder(handle_unknown=&#x27;ignore&#x27;),\n",
              "                                                  [&#x27;Make&#x27;, &#x27;Model&#x27;, &#x27;Style&#x27;,\n",
              "                                                   &#x27;Fuel_type&#x27;, &#x27;Transmission&#x27;,\n",
              "                                                   &#x27;distance_type&#x27;,\n",
              "                                                   &#x27;Make_rarity&#x27;, &#x27;Price_cat&#x27;,\n",
              "                                                   &#x27;Year_category&#x27;])])),\n",
              "                (&#x27;ridge&#x27;, RidgeCV(alphas=(0.1, 1, 3, 6, 10, 15)))])</pre></div></div></div><div class=\"sk-serial\"><div class=\"sk-item sk-dashed-wrapped\"><div class=\"sk-label-container\"><div class=\"sk-label sk-toggleable\"><input class=\"sk-toggleable__control sk-hidden--visually\" id=\"sk-estimator-id-2\" type=\"checkbox\" ><label for=\"sk-estimator-id-2\" class=\"sk-toggleable__label sk-toggleable__label-arrow\">preprocessor: ColumnTransformer</label><div class=\"sk-toggleable__content\"><pre>ColumnTransformer(transformers=[(&#x27;num&#x27;,\n",
              "                                 Pipeline(steps=[(&#x27;poly&#x27;,\n",
              "                                                  PolynomialFeatures(include_bias=False)),\n",
              "                                                 (&#x27;pca&#x27;, PCA(n_components=12)),\n",
              "                                                 (&#x27;scaler&#x27;, MinMaxScaler())]),\n",
              "                                 [&#x27;Distance&#x27;, &#x27;Engine_capacity(cm3)&#x27;,\n",
              "                                  &#x27;year_distance&#x27;, &#x27;Year&#x27;]),\n",
              "                                (&#x27;cat&#x27;, OneHotEncoder(handle_unknown=&#x27;ignore&#x27;),\n",
              "                                 [&#x27;Make&#x27;, &#x27;Model&#x27;, &#x27;Style&#x27;, &#x27;Fuel_type&#x27;,\n",
              "                                  &#x27;Transmission&#x27;, &#x27;distance_type&#x27;,\n",
              "                                  &#x27;Make_rarity&#x27;, &#x27;Price_cat&#x27;,\n",
              "                                  &#x27;Year_category&#x27;])])</pre></div></div></div><div class=\"sk-parallel\"><div class=\"sk-parallel-item\"><div class=\"sk-item\"><div class=\"sk-label-container\"><div class=\"sk-label sk-toggleable\"><input class=\"sk-toggleable__control sk-hidden--visually\" id=\"sk-estimator-id-3\" type=\"checkbox\" ><label for=\"sk-estimator-id-3\" class=\"sk-toggleable__label sk-toggleable__label-arrow\">num</label><div class=\"sk-toggleable__content\"><pre>[&#x27;Distance&#x27;, &#x27;Engine_capacity(cm3)&#x27;, &#x27;year_distance&#x27;, &#x27;Year&#x27;]</pre></div></div></div><div class=\"sk-serial\"><div class=\"sk-item\"><div class=\"sk-serial\"><div class=\"sk-item\"><div class=\"sk-estimator sk-toggleable\"><input class=\"sk-toggleable__control sk-hidden--visually\" id=\"sk-estimator-id-4\" type=\"checkbox\" ><label for=\"sk-estimator-id-4\" class=\"sk-toggleable__label sk-toggleable__label-arrow\">PolynomialFeatures</label><div class=\"sk-toggleable__content\"><pre>PolynomialFeatures(include_bias=False)</pre></div></div></div><div class=\"sk-item\"><div class=\"sk-estimator sk-toggleable\"><input class=\"sk-toggleable__control sk-hidden--visually\" id=\"sk-estimator-id-5\" type=\"checkbox\" ><label for=\"sk-estimator-id-5\" class=\"sk-toggleable__label sk-toggleable__label-arrow\">PCA</label><div class=\"sk-toggleable__content\"><pre>PCA(n_components=12)</pre></div></div></div><div class=\"sk-item\"><div class=\"sk-estimator sk-toggleable\"><input class=\"sk-toggleable__control sk-hidden--visually\" id=\"sk-estimator-id-6\" type=\"checkbox\" ><label for=\"sk-estimator-id-6\" class=\"sk-toggleable__label sk-toggleable__label-arrow\">MinMaxScaler</label><div class=\"sk-toggleable__content\"><pre>MinMaxScaler()</pre></div></div></div></div></div></div></div></div><div class=\"sk-parallel-item\"><div class=\"sk-item\"><div class=\"sk-label-container\"><div class=\"sk-label sk-toggleable\"><input class=\"sk-toggleable__control sk-hidden--visually\" id=\"sk-estimator-id-7\" type=\"checkbox\" ><label for=\"sk-estimator-id-7\" class=\"sk-toggleable__label sk-toggleable__label-arrow\">cat</label><div class=\"sk-toggleable__content\"><pre>[&#x27;Make&#x27;, &#x27;Model&#x27;, &#x27;Style&#x27;, &#x27;Fuel_type&#x27;, &#x27;Transmission&#x27;, &#x27;distance_type&#x27;, &#x27;Make_rarity&#x27;, &#x27;Price_cat&#x27;, &#x27;Year_category&#x27;]</pre></div></div></div><div class=\"sk-serial\"><div class=\"sk-item\"><div class=\"sk-estimator sk-toggleable\"><input class=\"sk-toggleable__control sk-hidden--visually\" id=\"sk-estimator-id-8\" type=\"checkbox\" ><label for=\"sk-estimator-id-8\" class=\"sk-toggleable__label sk-toggleable__label-arrow\">OneHotEncoder</label><div class=\"sk-toggleable__content\"><pre>OneHotEncoder(handle_unknown=&#x27;ignore&#x27;)</pre></div></div></div></div></div></div></div></div><div class=\"sk-item\"><div class=\"sk-estimator sk-toggleable\"><input class=\"sk-toggleable__control sk-hidden--visually\" id=\"sk-estimator-id-9\" type=\"checkbox\" ><label for=\"sk-estimator-id-9\" class=\"sk-toggleable__label sk-toggleable__label-arrow\">RidgeCV</label><div class=\"sk-toggleable__content\"><pre>RidgeCV(alphas=(0.1, 1, 3, 6, 10, 15))</pre></div></div></div></div></div></div></div>"
            ]
          },
          "metadata": {},
          "execution_count": 6
        }
      ]
    },
    {
      "cell_type": "markdown",
      "source": [
        "На диаграмме прекрасно выдно, как работает пайплайн"
      ],
      "metadata": {
        "id": "GJ5quaamK57q"
      }
    },
    {
      "cell_type": "code",
      "source": [
        "y_pred = reg.predict(X_test)\n",
        "\n",
        "print(f'R2 score: {r2_score(y_test, y_pred)}')\n",
        "print(f'MAE: {mean_absolute_error(y_test, y_pred)}')\n",
        "print(f'RMSE: {mean_squared_error(y_test, y_pred, squared=False)}')\n",
        "print(f'MAPE: {mean_absolute_percentage_error(y_test, y_pred)}')"
      ],
      "metadata": {
        "colab": {
          "base_uri": "https://localhost:8080/"
        },
        "id": "itiaKKBF9O7Y",
        "outputId": "925bd899-587b-4cf5-e924-b7daa23650d1"
      },
      "execution_count": null,
      "outputs": [
        {
          "output_type": "stream",
          "name": "stdout",
          "text": [
            "R2 score: 0.8064589569950403\n",
            "MAE: 2124.8565267430354\n",
            "RMSE: 3413.4387251511134\n",
            "MAPE: 0.4140478693568304\n"
          ]
        }
      ]
    },
    {
      "cell_type": "markdown",
      "source": [
        "Видим, что точность вырасла на 6% по сравнению с прошлыми попытками предсказать цену автомобиля, это прекрасный результат\n",
        "\n",
        "Остальные показатели также снизились"
      ],
      "metadata": {
        "id": "ShkH2fQaK-iN"
      }
    },
    {
      "cell_type": "code",
      "source": [
        "plot_weights(reg['ridge'].coef_)"
      ],
      "metadata": {
        "colab": {
          "base_uri": "https://localhost:8080/",
          "height": 542
        },
        "id": "AKjiY9fbMwjt",
        "outputId": "8e7bde8a-5ce0-4ffa-ec6e-984e041758da"
      },
      "execution_count": null,
      "outputs": [
        {
          "output_type": "display_data",
          "data": {
            "text/html": [
              "<html>\n",
              "<head><meta charset=\"utf-8\" /></head>\n",
              "<body>\n",
              "    <div>            <script src=\"https://cdnjs.cloudflare.com/ajax/libs/mathjax/2.7.5/MathJax.js?config=TeX-AMS-MML_SVG\"></script><script type=\"text/javascript\">if (window.MathJax && window.MathJax.Hub && window.MathJax.Hub.Config) {window.MathJax.Hub.Config({SVG: {font: \"STIX-Web\"}});}</script>                <script type=\"text/javascript\">window.PlotlyConfig = {MathJaxConfig: 'local'};</script>\n",
              "        <script src=\"https://cdn.plot.ly/plotly-2.16.1.min.js\"></script>                <div id=\"fb4a56bd-e483-436e-90e5-81f152dcce7e\" class=\"plotly-graph-div\" style=\"height:525px; width:100%;\"></div>            <script type=\"text/javascript\">                                    window.PLOTLYENV=window.PLOTLYENV || {};                                    if (document.getElementById(\"fb4a56bd-e483-436e-90e5-81f152dcce7e\")) {                    Plotly.newPlot(                        \"fb4a56bd-e483-436e-90e5-81f152dcce7e\",                        [{\"alignmentgroup\":\"True\",\"hovertemplate\":\"c=<0<br>x=%{x}<br>y=%{y}<extra></extra>\",\"legendgroup\":\"<0\",\"marker\":{\"color\":\"red\",\"pattern\":{\"shape\":\"\"}},\"name\":\"<0\",\"offsetgroup\":\"<0\",\"orientation\":\"v\",\"showlegend\":true,\"textposition\":\"auto\",\"x\":[\"w0\",\"w1\",\"w5\",\"w6\",\"w9\",\"w10\",\"w11\",\"w13\",\"w14\",\"w16\",\"w18\",\"w20\",\"w21\",\"w22\",\"w24\",\"w25\",\"w26\",\"w28\",\"w29\",\"w30\",\"w31\",\"w32\",\"w34\",\"w35\",\"w36\",\"w37\",\"w39\",\"w41\",\"w42\",\"w43\",\"w44\",\"w48\",\"w49\",\"w53\",\"w57\",\"w61\",\"w64\",\"w65\",\"w66\",\"w67\",\"w68\",\"w69\",\"w70\",\"w72\",\"w73\",\"w74\",\"w76\",\"w77\",\"w78\",\"w79\",\"w80\",\"w81\",\"w82\",\"w83\",\"w84\",\"w87\",\"w88\",\"w91\",\"w92\",\"w93\",\"w94\",\"w95\",\"w97\",\"w98\",\"w100\",\"w101\",\"w102\",\"w103\",\"w104\",\"w107\",\"w108\",\"w109\",\"w111\",\"w113\",\"w114\",\"w115\",\"w116\",\"w131\",\"w132\",\"w133\",\"w135\",\"w140\",\"w141\",\"w142\",\"w143\",\"w144\",\"w146\",\"w149\",\"w164\",\"w166\",\"w167\",\"w168\",\"w169\",\"w170\",\"w171\",\"w172\",\"w181\",\"w182\",\"w184\",\"w185\",\"w186\",\"w187\",\"w190\",\"w191\",\"w195\",\"w196\",\"w197\",\"w198\",\"w199\",\"w200\",\"w201\",\"w202\",\"w206\",\"w207\",\"w208\",\"w210\",\"w211\",\"w212\",\"w213\",\"w215\",\"w216\",\"w218\",\"w219\",\"w220\",\"w222\",\"w223\",\"w225\",\"w226\",\"w227\",\"w228\",\"w231\",\"w232\",\"w233\",\"w234\",\"w235\",\"w237\",\"w239\",\"w240\",\"w241\",\"w242\",\"w243\",\"w244\",\"w245\",\"w246\",\"w247\",\"w250\",\"w252\",\"w254\",\"w255\",\"w256\",\"w258\",\"w262\",\"w264\",\"w265\",\"w266\",\"w267\",\"w268\",\"w269\",\"w270\",\"w272\",\"w273\",\"w274\",\"w275\",\"w277\",\"w279\",\"w280\",\"w281\",\"w282\",\"w283\",\"w286\",\"w287\",\"w288\",\"w290\",\"w292\",\"w293\",\"w294\",\"w295\",\"w296\",\"w299\",\"w300\",\"w301\",\"w304\",\"w305\",\"w306\",\"w307\",\"w310\",\"w311\",\"w313\",\"w316\",\"w318\",\"w319\",\"w320\",\"w322\",\"w324\",\"w325\",\"w327\",\"w328\",\"w329\",\"w330\",\"w331\",\"w332\",\"w333\",\"w335\",\"w336\",\"w337\",\"w338\",\"w339\",\"w340\",\"w342\",\"w344\",\"w345\",\"w346\",\"w348\",\"w349\",\"w350\",\"w351\",\"w352\",\"w353\",\"w355\",\"w358\",\"w359\",\"w360\",\"w361\",\"w362\",\"w364\",\"w365\",\"w366\",\"w367\",\"w368\",\"w371\",\"w373\",\"w374\",\"w376\",\"w377\",\"w380\",\"w382\",\"w384\",\"w385\",\"w389\",\"w393\",\"w401\",\"w402\",\"w405\",\"w406\",\"w407\",\"w408\",\"w409\",\"w410\",\"w411\",\"w412\",\"w414\",\"w416\",\"w417\",\"w418\",\"w419\",\"w421\",\"w423\",\"w425\",\"w427\",\"w432\",\"w434\",\"w436\",\"w442\",\"w445\",\"w447\",\"w448\",\"w450\",\"w455\",\"w456\",\"w457\",\"w458\",\"w459\",\"w460\",\"w461\",\"w463\",\"w466\",\"w468\",\"w471\",\"w475\",\"w476\",\"w477\",\"w478\",\"w479\",\"w480\",\"w481\",\"w483\",\"w484\",\"w485\",\"w486\",\"w487\",\"w488\",\"w489\",\"w490\",\"w492\",\"w493\",\"w494\",\"w495\",\"w498\",\"w500\",\"w501\",\"w502\",\"w505\",\"w507\",\"w511\",\"w512\",\"w513\",\"w516\",\"w520\",\"w523\",\"w524\",\"w526\",\"w528\",\"w533\",\"w534\",\"w536\",\"w537\",\"w541\",\"w544\",\"w547\",\"w548\",\"w549\",\"w551\",\"w552\",\"w553\",\"w557\",\"w558\",\"w559\",\"w560\",\"w564\",\"w565\",\"w571\",\"w574\",\"w575\",\"w578\",\"w580\",\"w581\",\"w582\",\"w583\",\"w584\",\"w585\",\"w587\",\"w588\",\"w594\",\"w595\",\"w596\",\"w598\",\"w600\",\"w601\",\"w602\",\"w608\",\"w609\",\"w610\",\"w611\",\"w612\",\"w614\",\"w617\",\"w618\",\"w620\",\"w621\",\"w623\",\"w624\",\"w626\",\"w628\",\"w630\",\"w633\",\"w634\",\"w635\",\"w636\",\"w637\",\"w638\",\"w639\",\"w640\",\"w641\",\"w643\",\"w645\",\"w646\",\"w650\",\"w651\",\"w652\",\"w655\",\"w656\",\"w657\",\"w658\",\"w661\",\"w662\",\"w663\",\"w664\",\"w670\",\"w674\",\"w675\",\"w677\",\"w678\",\"w680\",\"w681\",\"w684\",\"w685\",\"w688\",\"w689\",\"w690\",\"w691\",\"w693\",\"w694\",\"w695\",\"w696\",\"w699\",\"w703\",\"w707\",\"w708\",\"w709\",\"w711\",\"w712\",\"w714\",\"w717\",\"w718\",\"w719\",\"w720\",\"w722\",\"w723\",\"w724\",\"w725\",\"w726\",\"w728\",\"w736\",\"w737\",\"w738\",\"w739\",\"w740\",\"w742\",\"w744\",\"w745\",\"w746\",\"w747\",\"w748\",\"w751\",\"w752\",\"w753\",\"w758\",\"w759\",\"w760\",\"w762\",\"w767\",\"w768\",\"w769\",\"w771\",\"w772\",\"w773\",\"w774\",\"w775\",\"w776\",\"w777\",\"w778\",\"w781\",\"w782\",\"w788\",\"w789\",\"w791\",\"w792\",\"w793\",\"w795\",\"w797\",\"w798\",\"w800\",\"w801\",\"w802\",\"w803\",\"w805\",\"w809\",\"w810\",\"w812\",\"w813\",\"w814\",\"w815\",\"w817\",\"w818\",\"w819\",\"w820\",\"w821\",\"w822\",\"w823\",\"w830\",\"w831\",\"w833\",\"w840\",\"w842\",\"w844\",\"w846\",\"w850\",\"w851\",\"w852\",\"w853\",\"w854\",\"w856\",\"w858\",\"w860\",\"w861\",\"w862\",\"w863\",\"w864\",\"w865\",\"w866\",\"w867\",\"w868\",\"w869\",\"w870\",\"w871\",\"w874\",\"w877\",\"w878\",\"w879\",\"w881\",\"w883\",\"w884\",\"w885\",\"w887\",\"w888\",\"w889\",\"w892\",\"w893\",\"w894\",\"w896\",\"w897\",\"w899\",\"w902\"],\"xaxis\":\"x\",\"y\":[-20322.731156421087,-4711.976732652559,-35921.2707505208,-18408.381706940854,-37972.94233082733,-6809.797345391539,-36256.76174805841,-1863.3103655150344,-483.7150671624722,-1237.1255686392233,-3249.3794304512794,-1783.5985069795743,-991.9365321613586,-4551.73902595827,-3381.882773073782,-2178.2897921117283,-1688.6840176245205,-1380.8047857085485,-4314.472169249459,-768.5306079852489,-940.342661732855,-3564.860122593217,-1370.450294828015,-1665.856071457597,-1493.912495761876,-5509.9683447623465,-2283.905963252968,-668.2072335420862,-1043.380244678733,-1755.1421439669339,-1752.5673011439158,-715.9121380943079,-3086.10165004234,-4201.180735719502,-4112.700031587098,-744.4169114371234,-38.54182880111239,-460.936348074767,-2432.6818373987317,-1030.8046881142118,-923.605926087308,-1712.2619447439229,-517.5330218083918,-4448.178829019522,-3055.046638662461,-1220.8621049530684,-682.8699547477454,-1678.6778067706355,-239.6607702129304,-2083.7256896773915,-992.2190496773565,-1206.962557700851,-858.9375549524302,-1356.7535437831975,-2745.010728797127,-470.7051186847466,-1615.9208354438479,-6261.544518003721,-2029.3908180845401,-4366.834821641262,-2151.0762831167194,-627.8882825509436,-655.5517722571012,-3763.3152195334815,-68.15963380505309,-198.69958504160695,-1282.5570642002922,-914.0356658829342,-1538.1391569341959,-3744.257668205497,-1664.0220556907861,-4451.729394632009,-1906.4229952984997,-325.869201405485,-603.3741155783791,-2603.9271179988773,-3917.456001296762,-2288.704736648937,-2104.5285617616846,-585.7624862364455,-1630.7420519212974,-1246.0965148585983,-3532.990861919512,-3325.212998560979,-68.82536679097029,-577.1785290623702,-3395.189025384956,-889.861457867939,-485.3764268891864,-623.1466816544316,-3000.0491982592985,-1306.0301826589566,-1803.1737823550602,-343.65233079306927,-967.1878154198057,-666.6553652075281,-3120.627950666779,-6.339429412128084,-56.995469883789156,-2600.7934378681502,-2423.2208756439186,-774.5808868440226,-7173.686655993522,-4440.197259194229,-4931.530211901097,-3572.81881651032,-3497.8549317781,-4146.502464040439,-4301.188094117259,-3285.2294121498044,-2092.9872657508868,-1095.2716632727097,-3064.9612174263966,-661.067155360658,-4302.697537680094,-1832.1930181748676,-3515.118070086146,-477.8127257075748,-393.2873246441386,-1505.8525195923357,-225.15384496235401,-1237.1255686392233,-853.1295663839028,-1467.4431491857176,-251.19746500401834,-185.5981396139532,-565.0092238019506,-1630.3397245842534,-23.88104641845075,-689.2090633900325,-514.8271352091651,-3144.656839940658,-3014.5770150958288,-27.85154980597872,-2805.9817333876317,-820.7231693464419,-1840.0198609498339,-238.50096848012709,-2557.9081643859536,-975.0447874990587,-4302.333188604988,-613.0409290270018,-382.0561951160107,-778.1035821973283,-1005.494924782246,-1000.9533365309899,-891.2066365152568,-1807.3172819195797,-135.87568592123898,-86.4981612060119,-3802.904082933128,-2786.538532368694,-949.8857605589246,-4048.7622867049768,-1761.2083140730965,-2761.105294207234,-2378.879942400842,-560.1738352715383,-956.7073721301331,-2795.1321464008997,-636.255212906487,-370.21504004332473,-657.6338263607104,-762.809682774202,-570.2009558996015,-1981.6474275132068,-1618.362922838499,-2458.947691326296,-2947.493109183808,-1696.2877168592404,-3381.882773073782,-6405.977184534549,-1766.1659580714722,-678.9548536512957,-2410.5874417068935,-1715.3483648367128,-2101.316043781724,-2207.2254961855524,-1706.4922060378367,-1367.6549003953505,-1644.970320571605,-5165.091280031496,-1009.9239755390963,-237.84181217052173,-274.8380280281417,-6601.945034947178,-6095.281550965446,-6685.048002792907,-627.62626591768,-7376.939442256057,-1897.9575130969806,-6751.473303878922,-213.22192951676425,-1616.1866961781825,-562.3601075119659,-1166.6839970342844,-176.18869116297265,-1503.2748067399125,-932.1520772914919,-596.2730418121837,-4857.835787762466,-9.962856219843161,-516.5059552482362,-232.09043874101826,-965.4535643162826,-545.5474283221855,-992.6376005145612,-3727.6742896130318,-1677.0985806614235,-5565.644200535218,-173.62153265439065,-3171.0292512677797,-3737.821062240522,-1025.1980222135799,-3837.388892015938,-2758.0149561053267,-1270.3662413556485,-520.8638077393698,-589.3121448687643,-787.3936096722218,-766.1678292002453,-172.10228417046164,-287.70043352015455,-651.471460986264,-319.2891635882488,-2751.0138432094927,-847.9379646684611,-1938.507068255718,-109.15738025763403,-180.40056549156088,-3736.0085513080357,-4110.67874057005,-5453.8841086982575,-2915.4506406279534,-1284.121815102395,-1223.265370447284,-2965.5346387661375,-2233.856491580367,-165.63273936852227,-86.94975203593367,-528.0441252536675,-907.7034816676787,-1201.0692704530402,-806.1362419055631,-1435.1015674271448,-545.4847523307899,-722.7605757179472,-2009.6719939560417,-36.30421377259427,-1857.1484859111906,-440.21314456855725,-1422.6891198211224,-2847.5751200790055,-6403.214347122568,-799.5501072263523,-557.1835334204998,-2129.047677433219,-209.9805752208203,-2493.6855722258206,-1488.2513049236559,-1630.3946166570531,-2319.4079030040893,-3639.381748148866,-2442.3501938744785,-881.3230768828162,-1518.2277102798616,-1034.3510513049923,-16.709960737650363,-600.9245688802384,-155.4357504536065,-312.7374687156416,-2168.6568680249266,-275.20618957683473,-2780.117987834692,-834.0109043230195,-1014.6148650308551,-1305.6582526439415,-2489.3253285876435,-3335.1285484028685,-360.69739616565585,-966.952292785294,-1772.3751975261866,-4120.705529618438,-1205.9697158300805,-497.1833452408191,-157.21642458859242,-1133.1672578010093,-1615.9002268092263,-443.23301013688797,-921.5100730775384,-2164.591576964802,-530.0312567277942,-3355.531881914946,-2240.8142899555687,-3631.9435119032314,-856.4927045470213,-2836.5463812416674,-1367.3673796430785,-389.7260045832227,-2275.8198269902377,-494.58779905697156,-3595.8819811619333,-4396.919391380198,-391.5327077648817,-990.9399450538403,-994.8555442414054,-768.7545171188385,-765.740202684502,-339.5014927534112,-751.3264527985475,-3235.060004842152,-803.6692254041727,-242.93821822798418,-395.572745853985,-1109.382885190511,-1033.0631859936193,-1718.0657842297733,-785.1528611891636,-3328.474072564948,-878.6770659889098,-2183.5440930090845,-1259.7167222620901,-2364.5224582286482,-2921.2059593268323,-944.8560335042193,-2923.4834488496736,-1191.6292167649735,-651.4260460310643,-2813.0222914101814,-336.48913333012206,-1155.990740396338,-1447.058829434397,-1942.1319882273574,-1044.3028059315775,-1210.6905953442802,-1572.4453766744764,-748.5570943095026,-2672.68060955711,-3589.336272335542,-1797.5776404581275,-1744.3391705912645,-9.069719834698844,-143.75576021108736,-2437.106701760158,-6480.737258639714,-3074.8094789816714,-2531.7986546199854,-925.6655943480055,-2385.072131666786,-1481.8942732157857,-94.08081118947848,-726.9992843678056,-2094.9661369579026,-2973.0024441884943,-2732.874188830594,-221.30167460927805,-7389.047516923505,-1447.1231459780456,-536.0912119341792,-2105.286196234364,-436.0604464308253,-2623.3473459257884,-93.83335787700616,-4470.606863401805,-2138.0326266320044,-1112.7389183581408,-3456.6278808870084,-3217.582006929875,-2664.4714223416777,-5330.4464838796775,-3865.973116821531,-6218.698790788618,-3587.5249892855218,-3441.594918693947,-839.8966031806603,-3484.5969828404986,-822.2182716076468,-687.7728752754638,-2086.995187057264,-1809.694933345716,-1858.153154945142,-604.858751558254,-964.7387884102154,-2684.344498645113,-2084.5358299806194,-2363.6429990389024,-1161.0118778721517,-3346.925003475252,-3012.542083950266,-754.5574998149932,-1230.7703590663841,-13.69130128998313,-5965.320045223813,-9112.970078226073,-217.05358708884978,-1027.8200352539216,-1471.9248564109594,-3276.064022798035,-328.14974169472407,-1837.017485052027,-135.51139848429648,-1418.7627871972327,-1091.1302192043304,-106.21835046071737,-392.49410890563195,-831.7335179126549,-721.9982178995933,-550.966352455167,-1212.7219536712255,-259.7950184801384,-740.3047253442055,-1912.2237066010366,-2704.1093687452494,-3419.39333635977,-2274.7712276839384,-3613.4156995586654,-4625.602380726488,-2112.6729744197273,-1.9338636417205635,-3624.3379263924935,-668.2072335420862,-388.1186301468706,-115.14792818861679,-3876.199289051159,-3860.1136773413573,-3861.1219083947644,-5223.568519584134,-1056.4157670701052,-2356.671518196532,-1841.6429667431375,-223.75566915354102,-5956.978795887729,-1224.5699568389618,-2160.2531349068868,-7134.923318510657,-463.37501893150966,-290.6715828261913,-1294.8658257735888,-2029.3908180845401,-2238.7612858885514,-687.4275755346089,-365.6849798952853,-208.12905396425958,-240.35140257367038,-102.3841867863166,-714.7642108443342,-1219.4089424075228,-433.4955384591849,-1885.823259324804,-1320.3872800568734,-4806.716366071081,-1454.564339986563,-1129.5091210704468,-1305.6789876173116,-1829.6861028989797,-4733.556442732253,-1356.0323115514088,-768.6441052645687,-2947.9562637394774,-1243.8769478257618,-2902.571877661677,-1446.9654224637343,-1497.766958073481,-3700.742920356851,-4400.5337956403755,-4841.347810060705,-3871.869706090607,-5639.315994101835,-1205.7761314991112,-2615.439538354837,-2191.609172153548,-3188.3161890518522,-1496.7734014391835,-1370.450294828015,-1671.5319649474386,-3831.1966194292454,-310.4136121917645,-3709.5528178742115,-835.1525312549993,-3473.528068474291,-3014.0439767034704,-1227.8080510864347,-130.6150391117735,-2410.797373247171,-1141.807384083665,-2062.927251349871,-341.05258938609313,-3177.321534481206,-1136.484669511632,-1632.2528932696923,-2793.417609306717,-2325.5313618806867,-767.5164071779955,-4819.39580079922,-4760.178115732978,-727.7092407102646,-4254.442918878567,-3427.0014773318944,-1478.4017856163418,-642.3100840039342,-1439.1685264801454,-3145.1497762370254,-3472.7482821441317,-3564.860122593217,-1164.646223510009,-364.8717912647753,-196.03781901946968,-170.11014220262223,-103.52767776658402,-2057.9714040035024,-232.41531747324188,-476.82430567943084,-1011.9609463236648,-912.6371647637142,-1342.1353573087436,-1251.7861624370826,-212.6739388845508,-151.86267791467162,-218.91132047549036,-143.3443422863611,-350.8263297952535,-1319.2046095803444,-34.339022861435296],\"yaxis\":\"y\",\"type\":\"bar\"},{\"alignmentgroup\":\"True\",\"hovertemplate\":\"c=>=0<br>x=%{x}<br>y=%{y}<extra></extra>\",\"legendgroup\":\">=0\",\"marker\":{\"color\":\"blue\",\"pattern\":{\"shape\":\"\"}},\"name\":\">=0\",\"offsetgroup\":\">=0\",\"orientation\":\"v\",\"showlegend\":true,\"textposition\":\"auto\",\"x\":[\"w2\",\"w3\",\"w4\",\"w7\",\"w8\",\"w12\",\"w15\",\"w17\",\"w19\",\"w23\",\"w27\",\"w33\",\"w38\",\"w40\",\"w45\",\"w46\",\"w47\",\"w50\",\"w51\",\"w52\",\"w54\",\"w55\",\"w56\",\"w58\",\"w59\",\"w60\",\"w62\",\"w63\",\"w71\",\"w75\",\"w85\",\"w86\",\"w89\",\"w90\",\"w96\",\"w99\",\"w105\",\"w106\",\"w110\",\"w112\",\"w117\",\"w118\",\"w119\",\"w120\",\"w121\",\"w122\",\"w123\",\"w124\",\"w125\",\"w126\",\"w127\",\"w128\",\"w129\",\"w130\",\"w134\",\"w136\",\"w137\",\"w138\",\"w139\",\"w145\",\"w147\",\"w148\",\"w150\",\"w151\",\"w152\",\"w153\",\"w154\",\"w155\",\"w156\",\"w157\",\"w158\",\"w159\",\"w160\",\"w161\",\"w162\",\"w163\",\"w165\",\"w173\",\"w174\",\"w175\",\"w176\",\"w177\",\"w178\",\"w179\",\"w180\",\"w183\",\"w188\",\"w189\",\"w192\",\"w193\",\"w194\",\"w203\",\"w204\",\"w205\",\"w209\",\"w214\",\"w217\",\"w221\",\"w224\",\"w229\",\"w230\",\"w236\",\"w238\",\"w248\",\"w249\",\"w251\",\"w253\",\"w257\",\"w259\",\"w260\",\"w261\",\"w263\",\"w271\",\"w276\",\"w278\",\"w284\",\"w285\",\"w289\",\"w291\",\"w297\",\"w298\",\"w302\",\"w303\",\"w308\",\"w309\",\"w312\",\"w314\",\"w315\",\"w317\",\"w321\",\"w323\",\"w326\",\"w334\",\"w341\",\"w343\",\"w347\",\"w354\",\"w356\",\"w357\",\"w363\",\"w369\",\"w370\",\"w372\",\"w375\",\"w378\",\"w379\",\"w381\",\"w383\",\"w386\",\"w387\",\"w388\",\"w390\",\"w391\",\"w392\",\"w394\",\"w395\",\"w396\",\"w397\",\"w398\",\"w399\",\"w400\",\"w403\",\"w404\",\"w413\",\"w415\",\"w420\",\"w422\",\"w424\",\"w426\",\"w428\",\"w429\",\"w430\",\"w431\",\"w433\",\"w435\",\"w437\",\"w438\",\"w439\",\"w440\",\"w441\",\"w443\",\"w444\",\"w446\",\"w449\",\"w451\",\"w452\",\"w453\",\"w454\",\"w462\",\"w464\",\"w465\",\"w467\",\"w469\",\"w470\",\"w472\",\"w473\",\"w474\",\"w482\",\"w491\",\"w496\",\"w497\",\"w499\",\"w503\",\"w504\",\"w506\",\"w508\",\"w509\",\"w510\",\"w514\",\"w515\",\"w517\",\"w518\",\"w519\",\"w521\",\"w522\",\"w525\",\"w527\",\"w529\",\"w530\",\"w531\",\"w532\",\"w535\",\"w538\",\"w539\",\"w540\",\"w542\",\"w543\",\"w545\",\"w546\",\"w550\",\"w554\",\"w555\",\"w556\",\"w561\",\"w562\",\"w563\",\"w566\",\"w567\",\"w568\",\"w569\",\"w570\",\"w572\",\"w573\",\"w576\",\"w577\",\"w579\",\"w586\",\"w589\",\"w590\",\"w591\",\"w592\",\"w593\",\"w597\",\"w599\",\"w603\",\"w604\",\"w605\",\"w606\",\"w607\",\"w613\",\"w615\",\"w616\",\"w619\",\"w622\",\"w625\",\"w627\",\"w629\",\"w631\",\"w632\",\"w642\",\"w644\",\"w647\",\"w648\",\"w649\",\"w653\",\"w654\",\"w659\",\"w660\",\"w665\",\"w666\",\"w667\",\"w668\",\"w669\",\"w671\",\"w672\",\"w673\",\"w676\",\"w679\",\"w682\",\"w683\",\"w686\",\"w687\",\"w692\",\"w697\",\"w698\",\"w700\",\"w701\",\"w702\",\"w704\",\"w705\",\"w706\",\"w710\",\"w713\",\"w715\",\"w716\",\"w721\",\"w727\",\"w729\",\"w730\",\"w731\",\"w732\",\"w733\",\"w734\",\"w735\",\"w741\",\"w743\",\"w749\",\"w750\",\"w754\",\"w755\",\"w756\",\"w757\",\"w761\",\"w763\",\"w764\",\"w765\",\"w766\",\"w770\",\"w779\",\"w780\",\"w783\",\"w784\",\"w785\",\"w786\",\"w787\",\"w790\",\"w794\",\"w796\",\"w799\",\"w804\",\"w806\",\"w807\",\"w808\",\"w811\",\"w816\",\"w824\",\"w825\",\"w826\",\"w827\",\"w828\",\"w829\",\"w832\",\"w834\",\"w835\",\"w836\",\"w837\",\"w838\",\"w839\",\"w841\",\"w843\",\"w845\",\"w847\",\"w848\",\"w849\",\"w855\",\"w857\",\"w859\",\"w872\",\"w873\",\"w875\",\"w876\",\"w880\",\"w882\",\"w886\",\"w890\",\"w891\",\"w895\",\"w898\",\"w900\",\"w901\"],\"xaxis\":\"x\",\"y\":[15508.926717591412,5089.368514081156,10809.882772862104,18764.949970103884,35621.18953123595,1416.8008156737542,1480.2036529223133,3127.2016556746266,3377.651687556612,2776.433833011124,1598.1743825397825,990.9656183785319,1950.018144321858,623.5417482757293,9038.175837425695,1448.6110939614018,1375.0473208754247,5427.630893968566,1776.3672283236592,3620.4662810214986,1047.6260065776787,6409.56365564516,4863.14680541352,1180.440093088182,1733.5080541757306,13272.220981764214,4064.298917665942,1354.603532757501,10211.886352517758,2769.289077446697,13185.526575917174,196.425688644641,53.35191343961924,476.02725921860474,1547.0893931129813,4806.966441377578,804.9619207424557,3999.9809090394556,921.0492898822395,379.0818243269523,713.2213956537853,2180.9959565033596,133.4964898494809,1454.099315277419,4026.2124855807906,3235.6958453910656,1167.8378854962766,2458.900322532998,2477.168567591929,4340.07723158643,2178.178085031851,484.0958661161494,1920.6953289408093,1971.107878123772,19866.47143720431,1483.9313433643101,2448.5785223110906,7674.339009557985,989.7382922871757,832.910251238397,349.3744987633909,304.20905863865846,5940.21205312322,5619.373195250393,5892.978829116601,1397.598926225638,1040.9984234270214,3337.940395681506,1272.87977996687,96.65734181733126,3502.629596408631,852.4158447126438,431.06300082931375,1492.3624101741088,859.2694934673063,883.0921286084385,1999.798010914018,5180.566951167679,2087.687763802426,824.5574476018282,910.8345456304405,586.998340768665,2314.8677707807274,124.97126068320995,1658.3075611362083,1806.7730738788796,838.8941858195767,15399.647159554172,1451.3811870667842,3686.4076915685473,2501.024461353725,5930.0724121817675,3627.9261959088253,4126.638215577517,1332.808113052096,1009.7052379777433,307.9534157968328,2193.6857888905797,3423.6744401960377,5738.600838069777,3591.66664729923,1559.0504625551694,259.5511752301454,1025.2774501652093,686.2312825212912,251.38558807544814,1320.477793132216,221.80568956023853,1064.9536670342268,1553.6938171657757,331.4879755994489,3814.1643150078107,124.66493193854876,442.90434904163976,1558.936863166119,281.84405753210285,1984.1712754786813,2185.7490862468094,2923.06689333923,1083.1337032879946,1677.988360706615,597.6076619598125,2362.53431523566,2419.2169126562803,10788.987124539308,789.2733812725683,3546.80750945661,162.05719952539494,1966.2636251006988,414.40384763838483,12.758899286269298,383.3057871102874,399.2721155209247,398.6364623002464,376.32717300977583,2160.4494311521694,2059.5234915974424,8843.376884747639,8033.826530791972,983.2182724040922,366.92887513574897,3346.0244176699853,509.2279213921329,1060.1470950042358,4292.834514978043,2158.1471982861176,18.716349573148364,1469.6982280546426,2220.4339855423177,4152.914536650577,797.4694635572368,3410.7733118076794,1118.3652599776597,4412.948740996733,5212.318317253012,3271.6241754355315,8021.651886809192,215.92482974216637,1677.2598890960353,653.539410631105,4922.5820592439595,4807.034695062348,765.1473878557654,38.82510973260196,4297.710821406319,1452.971520574405,1108.370221225021,13193.908520974837,7134.968735837923,5898.955755455474,14678.287283261085,10724.56105840229,10354.283980843822,13805.190685954662,1732.5582043441345,11929.273241732748,225.52951641918025,1394.830224786284,1108.534750206465,4547.628118285211,3460.762458374091,2717.052618508581,280.7437662691136,39.229532542017296,98.2385137656347,3184.0850077514388,77.29685640170283,224.3783630003818,370.36223661255644,226.25497015877772,6816.292740247451,2221.8830971782445,3182.459620580239,1015.6179195399118,1294.448303711144,3496.0306028069317,5622.090759476967,1333.0689045232648,2190.2968731203364,69.05443116099013,73.19708967708993,2848.533598916086,153.66468417780652,125.30325779700706,50.67045744095958,7793.953818715756,1727.0038758874935,2375.938493710264,1313.036622059365,540.2885445447109,5391.1074734305785,1531.1453977429264,1204.5610913926157,13418.888333628101,6102.255388545774,4071.349941993726,555.2363585032836,166.29192122277163,18.50825394156709,971.8657359536719,929.5093038649575,2073.3417357783974,826.7879341349408,9760.917568325314,505.6772007001591,390.2111106472894,1829.029904060426,492.82787118259785,7088.378692308612,823.5075268675755,1209.6577222057067,1889.5352484091154,112.14945452209031,9323.261022805062,3862.2655531121145,606.9357912283713,4995.6968763876475,1473.1029385723941,1013.5514975177512,7035.266562800544,431.75554534955245,2242.3636008591347,4341.293926733011,3037.2899597822816,2195.3633514627436,3472.2611834087893,9683.406091220848,434.31530847338854,1790.4476958636888,1532.5011594867701,1688.205778868115,1605.9034174606195,3116.3887212065792,829.2608902380517,2213.4985166266297,153.81709644793318,1548.3123994939124,645.5957933212258,5332.091621134417,1001.3237545287029,5428.516290148377,892.9295679916968,988.5450758165343,562.2932618499435,1806.3028382323955,1604.1084228648597,848.4689919058555,253.08550423524957,629.8229504871279,1757.5052336545978,785.1010892395179,1015.3479500159847,8529.164285884697,9753.21064700152,3485.9181306076407,2455.253731635574,237.49245226488893,763.1507308177088,354.0363627193092,988.388831413723,431.0158863661427,1540.8335731414145,1446.9691057055425,1750.3517760530176,11774.219008438471,287.6812350777691,6035.67630244562,224.1833286889114,912.786184437965,870.683214712325,158.50542255177425,2944.90337640745,1583.1162272426855,386.37678970130764,3411.2485863498923,10015.84737238989,2655.269219766602,1489.9652157858027,7265.456474569873,1977.9923604279238,883.8534385022867,885.1546455577409,195.98231409375148,1565.5582057933598,1540.7816125073387,855.5700665244203,3616.097911679186,1443.1616544638855,1095.8828687187552,3177.7131383495207,78.5671118215414,656.0466334780131,236.51710663957329,1000.1927434654854,263.8170731387845,2582.8187970442823,8484.752457421615,970.272497611616,1658.5833318990944,128.43969400347032,257.6914601349654,2510.992511916771,129.20086290350991,3364.5335586255314,526.3954713027142,910.1251843862174,496.20066573554686,2394.0296248128707,169.0389615952654,1485.997481118693,3502.10913539224,1131.5368897332346,896.1208620044372,1404.0749368156767,1787.073524981438,882.9626700440658,1405.2501351217097,4125.178132863904,4980.953538756397,5547.223891020927,393.6332004954438,923.3828828398937,1627.881724061608,72.20638985854293,307.6790638695884,459.1502453164894,1903.2489890756315,615.6822221546863,11217.760036409753,3724.6420199375934,61.76295341808236,802.6246829467254,8023.741965505687,2631.928549537027,7690.860591881696,6103.250067826979,4847.9197721979035,2011.9523775027428,4407.566081828998,6823.320310146984,362.5861528758742,56.05616472775182,730.0797730606455,1110.8478194218023,3571.0373880118123,50.29924849148574,630.0566536885453,442.0340628496406,264.84082420416325,36.00308854448758,1253.7275480288208,1195.8452567577006,851.3417466393385,2982.5966018031395,1535.9230357853712,212.67394564484312,514.1183474336422,350.82633654611163,1319.204616336805,34.3390296241505],\"yaxis\":\"y\",\"type\":\"bar\"}],                        {\"template\":{\"data\":{\"histogram2dcontour\":[{\"type\":\"histogram2dcontour\",\"colorbar\":{\"outlinewidth\":0,\"ticks\":\"\"},\"colorscale\":[[0.0,\"#0d0887\"],[0.1111111111111111,\"#46039f\"],[0.2222222222222222,\"#7201a8\"],[0.3333333333333333,\"#9c179e\"],[0.4444444444444444,\"#bd3786\"],[0.5555555555555556,\"#d8576b\"],[0.6666666666666666,\"#ed7953\"],[0.7777777777777778,\"#fb9f3a\"],[0.8888888888888888,\"#fdca26\"],[1.0,\"#f0f921\"]]}],\"choropleth\":[{\"type\":\"choropleth\",\"colorbar\":{\"outlinewidth\":0,\"ticks\":\"\"}}],\"histogram2d\":[{\"type\":\"histogram2d\",\"colorbar\":{\"outlinewidth\":0,\"ticks\":\"\"},\"colorscale\":[[0.0,\"#0d0887\"],[0.1111111111111111,\"#46039f\"],[0.2222222222222222,\"#7201a8\"],[0.3333333333333333,\"#9c179e\"],[0.4444444444444444,\"#bd3786\"],[0.5555555555555556,\"#d8576b\"],[0.6666666666666666,\"#ed7953\"],[0.7777777777777778,\"#fb9f3a\"],[0.8888888888888888,\"#fdca26\"],[1.0,\"#f0f921\"]]}],\"heatmap\":[{\"type\":\"heatmap\",\"colorbar\":{\"outlinewidth\":0,\"ticks\":\"\"},\"colorscale\":[[0.0,\"#0d0887\"],[0.1111111111111111,\"#46039f\"],[0.2222222222222222,\"#7201a8\"],[0.3333333333333333,\"#9c179e\"],[0.4444444444444444,\"#bd3786\"],[0.5555555555555556,\"#d8576b\"],[0.6666666666666666,\"#ed7953\"],[0.7777777777777778,\"#fb9f3a\"],[0.8888888888888888,\"#fdca26\"],[1.0,\"#f0f921\"]]}],\"heatmapgl\":[{\"type\":\"heatmapgl\",\"colorbar\":{\"outlinewidth\":0,\"ticks\":\"\"},\"colorscale\":[[0.0,\"#0d0887\"],[0.1111111111111111,\"#46039f\"],[0.2222222222222222,\"#7201a8\"],[0.3333333333333333,\"#9c179e\"],[0.4444444444444444,\"#bd3786\"],[0.5555555555555556,\"#d8576b\"],[0.6666666666666666,\"#ed7953\"],[0.7777777777777778,\"#fb9f3a\"],[0.8888888888888888,\"#fdca26\"],[1.0,\"#f0f921\"]]}],\"contourcarpet\":[{\"type\":\"contourcarpet\",\"colorbar\":{\"outlinewidth\":0,\"ticks\":\"\"}}],\"contour\":[{\"type\":\"contour\",\"colorbar\":{\"outlinewidth\":0,\"ticks\":\"\"},\"colorscale\":[[0.0,\"#0d0887\"],[0.1111111111111111,\"#46039f\"],[0.2222222222222222,\"#7201a8\"],[0.3333333333333333,\"#9c179e\"],[0.4444444444444444,\"#bd3786\"],[0.5555555555555556,\"#d8576b\"],[0.6666666666666666,\"#ed7953\"],[0.7777777777777778,\"#fb9f3a\"],[0.8888888888888888,\"#fdca26\"],[1.0,\"#f0f921\"]]}],\"surface\":[{\"type\":\"surface\",\"colorbar\":{\"outlinewidth\":0,\"ticks\":\"\"},\"colorscale\":[[0.0,\"#0d0887\"],[0.1111111111111111,\"#46039f\"],[0.2222222222222222,\"#7201a8\"],[0.3333333333333333,\"#9c179e\"],[0.4444444444444444,\"#bd3786\"],[0.5555555555555556,\"#d8576b\"],[0.6666666666666666,\"#ed7953\"],[0.7777777777777778,\"#fb9f3a\"],[0.8888888888888888,\"#fdca26\"],[1.0,\"#f0f921\"]]}],\"mesh3d\":[{\"type\":\"mesh3d\",\"colorbar\":{\"outlinewidth\":0,\"ticks\":\"\"}}],\"scatter\":[{\"fillpattern\":{\"fillmode\":\"overlay\",\"size\":10,\"solidity\":0.2},\"type\":\"scatter\"}],\"parcoords\":[{\"type\":\"parcoords\",\"line\":{\"colorbar\":{\"outlinewidth\":0,\"ticks\":\"\"}}}],\"scatterpolargl\":[{\"type\":\"scatterpolargl\",\"marker\":{\"colorbar\":{\"outlinewidth\":0,\"ticks\":\"\"}}}],\"bar\":[{\"error_x\":{\"color\":\"#2a3f5f\"},\"error_y\":{\"color\":\"#2a3f5f\"},\"marker\":{\"line\":{\"color\":\"#E5ECF6\",\"width\":0.5},\"pattern\":{\"fillmode\":\"overlay\",\"size\":10,\"solidity\":0.2}},\"type\":\"bar\"}],\"scattergeo\":[{\"type\":\"scattergeo\",\"marker\":{\"colorbar\":{\"outlinewidth\":0,\"ticks\":\"\"}}}],\"scatterpolar\":[{\"type\":\"scatterpolar\",\"marker\":{\"colorbar\":{\"outlinewidth\":0,\"ticks\":\"\"}}}],\"histogram\":[{\"marker\":{\"pattern\":{\"fillmode\":\"overlay\",\"size\":10,\"solidity\":0.2}},\"type\":\"histogram\"}],\"scattergl\":[{\"type\":\"scattergl\",\"marker\":{\"colorbar\":{\"outlinewidth\":0,\"ticks\":\"\"}}}],\"scatter3d\":[{\"type\":\"scatter3d\",\"line\":{\"colorbar\":{\"outlinewidth\":0,\"ticks\":\"\"}},\"marker\":{\"colorbar\":{\"outlinewidth\":0,\"ticks\":\"\"}}}],\"scattermapbox\":[{\"type\":\"scattermapbox\",\"marker\":{\"colorbar\":{\"outlinewidth\":0,\"ticks\":\"\"}}}],\"scatterternary\":[{\"type\":\"scatterternary\",\"marker\":{\"colorbar\":{\"outlinewidth\":0,\"ticks\":\"\"}}}],\"scattercarpet\":[{\"type\":\"scattercarpet\",\"marker\":{\"colorbar\":{\"outlinewidth\":0,\"ticks\":\"\"}}}],\"carpet\":[{\"aaxis\":{\"endlinecolor\":\"#2a3f5f\",\"gridcolor\":\"white\",\"linecolor\":\"white\",\"minorgridcolor\":\"white\",\"startlinecolor\":\"#2a3f5f\"},\"baxis\":{\"endlinecolor\":\"#2a3f5f\",\"gridcolor\":\"white\",\"linecolor\":\"white\",\"minorgridcolor\":\"white\",\"startlinecolor\":\"#2a3f5f\"},\"type\":\"carpet\"}],\"table\":[{\"cells\":{\"fill\":{\"color\":\"#EBF0F8\"},\"line\":{\"color\":\"white\"}},\"header\":{\"fill\":{\"color\":\"#C8D4E3\"},\"line\":{\"color\":\"white\"}},\"type\":\"table\"}],\"barpolar\":[{\"marker\":{\"line\":{\"color\":\"#E5ECF6\",\"width\":0.5},\"pattern\":{\"fillmode\":\"overlay\",\"size\":10,\"solidity\":0.2}},\"type\":\"barpolar\"}],\"pie\":[{\"automargin\":true,\"type\":\"pie\"}]},\"layout\":{\"autotypenumbers\":\"strict\",\"colorway\":[\"#636efa\",\"#EF553B\",\"#00cc96\",\"#ab63fa\",\"#FFA15A\",\"#19d3f3\",\"#FF6692\",\"#B6E880\",\"#FF97FF\",\"#FECB52\"],\"font\":{\"color\":\"#2a3f5f\"},\"hovermode\":\"closest\",\"hoverlabel\":{\"align\":\"left\"},\"paper_bgcolor\":\"white\",\"plot_bgcolor\":\"#E5ECF6\",\"polar\":{\"bgcolor\":\"#E5ECF6\",\"angularaxis\":{\"gridcolor\":\"white\",\"linecolor\":\"white\",\"ticks\":\"\"},\"radialaxis\":{\"gridcolor\":\"white\",\"linecolor\":\"white\",\"ticks\":\"\"}},\"ternary\":{\"bgcolor\":\"#E5ECF6\",\"aaxis\":{\"gridcolor\":\"white\",\"linecolor\":\"white\",\"ticks\":\"\"},\"baxis\":{\"gridcolor\":\"white\",\"linecolor\":\"white\",\"ticks\":\"\"},\"caxis\":{\"gridcolor\":\"white\",\"linecolor\":\"white\",\"ticks\":\"\"}},\"coloraxis\":{\"colorbar\":{\"outlinewidth\":0,\"ticks\":\"\"}},\"colorscale\":{\"sequential\":[[0.0,\"#0d0887\"],[0.1111111111111111,\"#46039f\"],[0.2222222222222222,\"#7201a8\"],[0.3333333333333333,\"#9c179e\"],[0.4444444444444444,\"#bd3786\"],[0.5555555555555556,\"#d8576b\"],[0.6666666666666666,\"#ed7953\"],[0.7777777777777778,\"#fb9f3a\"],[0.8888888888888888,\"#fdca26\"],[1.0,\"#f0f921\"]],\"sequentialminus\":[[0.0,\"#0d0887\"],[0.1111111111111111,\"#46039f\"],[0.2222222222222222,\"#7201a8\"],[0.3333333333333333,\"#9c179e\"],[0.4444444444444444,\"#bd3786\"],[0.5555555555555556,\"#d8576b\"],[0.6666666666666666,\"#ed7953\"],[0.7777777777777778,\"#fb9f3a\"],[0.8888888888888888,\"#fdca26\"],[1.0,\"#f0f921\"]],\"diverging\":[[0,\"#8e0152\"],[0.1,\"#c51b7d\"],[0.2,\"#de77ae\"],[0.3,\"#f1b6da\"],[0.4,\"#fde0ef\"],[0.5,\"#f7f7f7\"],[0.6,\"#e6f5d0\"],[0.7,\"#b8e186\"],[0.8,\"#7fbc41\"],[0.9,\"#4d9221\"],[1,\"#276419\"]]},\"xaxis\":{\"gridcolor\":\"white\",\"linecolor\":\"white\",\"ticks\":\"\",\"title\":{\"standoff\":15},\"zerolinecolor\":\"white\",\"automargin\":true,\"zerolinewidth\":2},\"yaxis\":{\"gridcolor\":\"white\",\"linecolor\":\"white\",\"ticks\":\"\",\"title\":{\"standoff\":15},\"zerolinecolor\":\"white\",\"automargin\":true,\"zerolinewidth\":2},\"scene\":{\"xaxis\":{\"backgroundcolor\":\"#E5ECF6\",\"gridcolor\":\"white\",\"linecolor\":\"white\",\"showbackground\":true,\"ticks\":\"\",\"zerolinecolor\":\"white\",\"gridwidth\":2},\"yaxis\":{\"backgroundcolor\":\"#E5ECF6\",\"gridcolor\":\"white\",\"linecolor\":\"white\",\"showbackground\":true,\"ticks\":\"\",\"zerolinecolor\":\"white\",\"gridwidth\":2},\"zaxis\":{\"backgroundcolor\":\"#E5ECF6\",\"gridcolor\":\"white\",\"linecolor\":\"white\",\"showbackground\":true,\"ticks\":\"\",\"zerolinecolor\":\"white\",\"gridwidth\":2}},\"shapedefaults\":{\"line\":{\"color\":\"#2a3f5f\"}},\"annotationdefaults\":{\"arrowcolor\":\"#2a3f5f\",\"arrowhead\":0,\"arrowwidth\":1},\"geo\":{\"bgcolor\":\"white\",\"landcolor\":\"#E5ECF6\",\"subunitcolor\":\"white\",\"showland\":true,\"showlakes\":true,\"lakecolor\":\"white\"},\"title\":{\"x\":0.05},\"mapbox\":{\"style\":\"light\"}}},\"xaxis\":{\"anchor\":\"y\",\"domain\":[0.0,1.0],\"title\":{\"text\":\"x\"},\"categoryorder\":\"array\",\"categoryarray\":[\"w0\",\"w1\",\"w2\",\"w3\",\"w4\",\"w5\",\"w6\",\"w7\",\"w8\",\"w9\",\"w10\",\"w11\",\"w12\",\"w13\",\"w14\",\"w15\",\"w16\",\"w17\",\"w18\",\"w19\",\"w20\",\"w21\",\"w22\",\"w23\",\"w24\",\"w25\",\"w26\",\"w27\",\"w28\",\"w29\",\"w30\",\"w31\",\"w32\",\"w33\",\"w34\",\"w35\",\"w36\",\"w37\",\"w38\",\"w39\",\"w40\",\"w41\",\"w42\",\"w43\",\"w44\",\"w45\",\"w46\",\"w47\",\"w48\",\"w49\",\"w50\",\"w51\",\"w52\",\"w53\",\"w54\",\"w55\",\"w56\",\"w57\",\"w58\",\"w59\",\"w60\",\"w61\",\"w62\",\"w63\",\"w64\",\"w65\",\"w66\",\"w67\",\"w68\",\"w69\",\"w70\",\"w71\",\"w72\",\"w73\",\"w74\",\"w75\",\"w76\",\"w77\",\"w78\",\"w79\",\"w80\",\"w81\",\"w82\",\"w83\",\"w84\",\"w85\",\"w86\",\"w87\",\"w88\",\"w89\",\"w90\",\"w91\",\"w92\",\"w93\",\"w94\",\"w95\",\"w96\",\"w97\",\"w98\",\"w99\",\"w100\",\"w101\",\"w102\",\"w103\",\"w104\",\"w105\",\"w106\",\"w107\",\"w108\",\"w109\",\"w110\",\"w111\",\"w112\",\"w113\",\"w114\",\"w115\",\"w116\",\"w117\",\"w118\",\"w119\",\"w120\",\"w121\",\"w122\",\"w123\",\"w124\",\"w125\",\"w126\",\"w127\",\"w128\",\"w129\",\"w130\",\"w131\",\"w132\",\"w133\",\"w134\",\"w135\",\"w136\",\"w137\",\"w138\",\"w139\",\"w140\",\"w141\",\"w142\",\"w143\",\"w144\",\"w145\",\"w146\",\"w147\",\"w148\",\"w149\",\"w150\",\"w151\",\"w152\",\"w153\",\"w154\",\"w155\",\"w156\",\"w157\",\"w158\",\"w159\",\"w160\",\"w161\",\"w162\",\"w163\",\"w164\",\"w165\",\"w166\",\"w167\",\"w168\",\"w169\",\"w170\",\"w171\",\"w172\",\"w173\",\"w174\",\"w175\",\"w176\",\"w177\",\"w178\",\"w179\",\"w180\",\"w181\",\"w182\",\"w183\",\"w184\",\"w185\",\"w186\",\"w187\",\"w188\",\"w189\",\"w190\",\"w191\",\"w192\",\"w193\",\"w194\",\"w195\",\"w196\",\"w197\",\"w198\",\"w199\",\"w200\",\"w201\",\"w202\",\"w203\",\"w204\",\"w205\",\"w206\",\"w207\",\"w208\",\"w209\",\"w210\",\"w211\",\"w212\",\"w213\",\"w214\",\"w215\",\"w216\",\"w217\",\"w218\",\"w219\",\"w220\",\"w221\",\"w222\",\"w223\",\"w224\",\"w225\",\"w226\",\"w227\",\"w228\",\"w229\",\"w230\",\"w231\",\"w232\",\"w233\",\"w234\",\"w235\",\"w236\",\"w237\",\"w238\",\"w239\",\"w240\",\"w241\",\"w242\",\"w243\",\"w244\",\"w245\",\"w246\",\"w247\",\"w248\",\"w249\",\"w250\",\"w251\",\"w252\",\"w253\",\"w254\",\"w255\",\"w256\",\"w257\",\"w258\",\"w259\",\"w260\",\"w261\",\"w262\",\"w263\",\"w264\",\"w265\",\"w266\",\"w267\",\"w268\",\"w269\",\"w270\",\"w271\",\"w272\",\"w273\",\"w274\",\"w275\",\"w276\",\"w277\",\"w278\",\"w279\",\"w280\",\"w281\",\"w282\",\"w283\",\"w284\",\"w285\",\"w286\",\"w287\",\"w288\",\"w289\",\"w290\",\"w291\",\"w292\",\"w293\",\"w294\",\"w295\",\"w296\",\"w297\",\"w298\",\"w299\",\"w300\",\"w301\",\"w302\",\"w303\",\"w304\",\"w305\",\"w306\",\"w307\",\"w308\",\"w309\",\"w310\",\"w311\",\"w312\",\"w313\",\"w314\",\"w315\",\"w316\",\"w317\",\"w318\",\"w319\",\"w320\",\"w321\",\"w322\",\"w323\",\"w324\",\"w325\",\"w326\",\"w327\",\"w328\",\"w329\",\"w330\",\"w331\",\"w332\",\"w333\",\"w334\",\"w335\",\"w336\",\"w337\",\"w338\",\"w339\",\"w340\",\"w341\",\"w342\",\"w343\",\"w344\",\"w345\",\"w346\",\"w347\",\"w348\",\"w349\",\"w350\",\"w351\",\"w352\",\"w353\",\"w354\",\"w355\",\"w356\",\"w357\",\"w358\",\"w359\",\"w360\",\"w361\",\"w362\",\"w363\",\"w364\",\"w365\",\"w366\",\"w367\",\"w368\",\"w369\",\"w370\",\"w371\",\"w372\",\"w373\",\"w374\",\"w375\",\"w376\",\"w377\",\"w378\",\"w379\",\"w380\",\"w381\",\"w382\",\"w383\",\"w384\",\"w385\",\"w386\",\"w387\",\"w388\",\"w389\",\"w390\",\"w391\",\"w392\",\"w393\",\"w394\",\"w395\",\"w396\",\"w397\",\"w398\",\"w399\",\"w400\",\"w401\",\"w402\",\"w403\",\"w404\",\"w405\",\"w406\",\"w407\",\"w408\",\"w409\",\"w410\",\"w411\",\"w412\",\"w413\",\"w414\",\"w415\",\"w416\",\"w417\",\"w418\",\"w419\",\"w420\",\"w421\",\"w422\",\"w423\",\"w424\",\"w425\",\"w426\",\"w427\",\"w428\",\"w429\",\"w430\",\"w431\",\"w432\",\"w433\",\"w434\",\"w435\",\"w436\",\"w437\",\"w438\",\"w439\",\"w440\",\"w441\",\"w442\",\"w443\",\"w444\",\"w445\",\"w446\",\"w447\",\"w448\",\"w449\",\"w450\",\"w451\",\"w452\",\"w453\",\"w454\",\"w455\",\"w456\",\"w457\",\"w458\",\"w459\",\"w460\",\"w461\",\"w462\",\"w463\",\"w464\",\"w465\",\"w466\",\"w467\",\"w468\",\"w469\",\"w470\",\"w471\",\"w472\",\"w473\",\"w474\",\"w475\",\"w476\",\"w477\",\"w478\",\"w479\",\"w480\",\"w481\",\"w482\",\"w483\",\"w484\",\"w485\",\"w486\",\"w487\",\"w488\",\"w489\",\"w490\",\"w491\",\"w492\",\"w493\",\"w494\",\"w495\",\"w496\",\"w497\",\"w498\",\"w499\",\"w500\",\"w501\",\"w502\",\"w503\",\"w504\",\"w505\",\"w506\",\"w507\",\"w508\",\"w509\",\"w510\",\"w511\",\"w512\",\"w513\",\"w514\",\"w515\",\"w516\",\"w517\",\"w518\",\"w519\",\"w520\",\"w521\",\"w522\",\"w523\",\"w524\",\"w525\",\"w526\",\"w527\",\"w528\",\"w529\",\"w530\",\"w531\",\"w532\",\"w533\",\"w534\",\"w535\",\"w536\",\"w537\",\"w538\",\"w539\",\"w540\",\"w541\",\"w542\",\"w543\",\"w544\",\"w545\",\"w546\",\"w547\",\"w548\",\"w549\",\"w550\",\"w551\",\"w552\",\"w553\",\"w554\",\"w555\",\"w556\",\"w557\",\"w558\",\"w559\",\"w560\",\"w561\",\"w562\",\"w563\",\"w564\",\"w565\",\"w566\",\"w567\",\"w568\",\"w569\",\"w570\",\"w571\",\"w572\",\"w573\",\"w574\",\"w575\",\"w576\",\"w577\",\"w578\",\"w579\",\"w580\",\"w581\",\"w582\",\"w583\",\"w584\",\"w585\",\"w586\",\"w587\",\"w588\",\"w589\",\"w590\",\"w591\",\"w592\",\"w593\",\"w594\",\"w595\",\"w596\",\"w597\",\"w598\",\"w599\",\"w600\",\"w601\",\"w602\",\"w603\",\"w604\",\"w605\",\"w606\",\"w607\",\"w608\",\"w609\",\"w610\",\"w611\",\"w612\",\"w613\",\"w614\",\"w615\",\"w616\",\"w617\",\"w618\",\"w619\",\"w620\",\"w621\",\"w622\",\"w623\",\"w624\",\"w625\",\"w626\",\"w627\",\"w628\",\"w629\",\"w630\",\"w631\",\"w632\",\"w633\",\"w634\",\"w635\",\"w636\",\"w637\",\"w638\",\"w639\",\"w640\",\"w641\",\"w642\",\"w643\",\"w644\",\"w645\",\"w646\",\"w647\",\"w648\",\"w649\",\"w650\",\"w651\",\"w652\",\"w653\",\"w654\",\"w655\",\"w656\",\"w657\",\"w658\",\"w659\",\"w660\",\"w661\",\"w662\",\"w663\",\"w664\",\"w665\",\"w666\",\"w667\",\"w668\",\"w669\",\"w670\",\"w671\",\"w672\",\"w673\",\"w674\",\"w675\",\"w676\",\"w677\",\"w678\",\"w679\",\"w680\",\"w681\",\"w682\",\"w683\",\"w684\",\"w685\",\"w686\",\"w687\",\"w688\",\"w689\",\"w690\",\"w691\",\"w692\",\"w693\",\"w694\",\"w695\",\"w696\",\"w697\",\"w698\",\"w699\",\"w700\",\"w701\",\"w702\",\"w703\",\"w704\",\"w705\",\"w706\",\"w707\",\"w708\",\"w709\",\"w710\",\"w711\",\"w712\",\"w713\",\"w714\",\"w715\",\"w716\",\"w717\",\"w718\",\"w719\",\"w720\",\"w721\",\"w722\",\"w723\",\"w724\",\"w725\",\"w726\",\"w727\",\"w728\",\"w729\",\"w730\",\"w731\",\"w732\",\"w733\",\"w734\",\"w735\",\"w736\",\"w737\",\"w738\",\"w739\",\"w740\",\"w741\",\"w742\",\"w743\",\"w744\",\"w745\",\"w746\",\"w747\",\"w748\",\"w749\",\"w750\",\"w751\",\"w752\",\"w753\",\"w754\",\"w755\",\"w756\",\"w757\",\"w758\",\"w759\",\"w760\",\"w761\",\"w762\",\"w763\",\"w764\",\"w765\",\"w766\",\"w767\",\"w768\",\"w769\",\"w770\",\"w771\",\"w772\",\"w773\",\"w774\",\"w775\",\"w776\",\"w777\",\"w778\",\"w779\",\"w780\",\"w781\",\"w782\",\"w783\",\"w784\",\"w785\",\"w786\",\"w787\",\"w788\",\"w789\",\"w790\",\"w791\",\"w792\",\"w793\",\"w794\",\"w795\",\"w796\",\"w797\",\"w798\",\"w799\",\"w800\",\"w801\",\"w802\",\"w803\",\"w804\",\"w805\",\"w806\",\"w807\",\"w808\",\"w809\",\"w810\",\"w811\",\"w812\",\"w813\",\"w814\",\"w815\",\"w816\",\"w817\",\"w818\",\"w819\",\"w820\",\"w821\",\"w822\",\"w823\",\"w824\",\"w825\",\"w826\",\"w827\",\"w828\",\"w829\",\"w830\",\"w831\",\"w832\",\"w833\",\"w834\",\"w835\",\"w836\",\"w837\",\"w838\",\"w839\",\"w840\",\"w841\",\"w842\",\"w843\",\"w844\",\"w845\",\"w846\",\"w847\",\"w848\",\"w849\",\"w850\",\"w851\",\"w852\",\"w853\",\"w854\",\"w855\",\"w856\",\"w857\",\"w858\",\"w859\",\"w860\",\"w861\",\"w862\",\"w863\",\"w864\",\"w865\",\"w866\",\"w867\",\"w868\",\"w869\",\"w870\",\"w871\",\"w872\",\"w873\",\"w874\",\"w875\",\"w876\",\"w877\",\"w878\",\"w879\",\"w880\",\"w881\",\"w882\",\"w883\",\"w884\",\"w885\",\"w886\",\"w887\",\"w888\",\"w889\",\"w890\",\"w891\",\"w892\",\"w893\",\"w894\",\"w895\",\"w896\",\"w897\",\"w898\",\"w899\",\"w900\",\"w901\",\"w902\"]},\"yaxis\":{\"anchor\":\"x\",\"domain\":[0.0,1.0],\"title\":{\"text\":\"y\"}},\"legend\":{\"title\":{\"text\":\"c\"},\"tracegroupgap\":0},\"margin\":{\"t\":60},\"barmode\":\"relative\"},                        {\"responsive\": true}                    ).then(function(){\n",
              "                            \n",
              "var gd = document.getElementById('fb4a56bd-e483-436e-90e5-81f152dcce7e');\n",
              "var x = new MutationObserver(function (mutations, observer) {{\n",
              "        var display = window.getComputedStyle(gd).display;\n",
              "        if (!display || display === 'none') {{\n",
              "            console.log([gd, 'removed!']);\n",
              "            Plotly.purge(gd);\n",
              "            observer.disconnect();\n",
              "        }}\n",
              "}});\n",
              "\n",
              "// Listen for the removal of the full notebook cells\n",
              "var notebookContainer = gd.closest('#notebook-container');\n",
              "if (notebookContainer) {{\n",
              "    x.observe(notebookContainer, {childList: true});\n",
              "}}\n",
              "\n",
              "// Listen for the clearing of the current output cell\n",
              "var outputEl = gd.closest('.output');\n",
              "if (outputEl) {{\n",
              "    x.observe(outputEl, {childList: true});\n",
              "}}\n",
              "\n",
              "                        })                };                            </script>        </div>\n",
              "</body>\n",
              "</html>"
            ]
          },
          "metadata": {}
        }
      ]
    },
    {
      "cell_type": "markdown",
      "source": [
        "Из-за метода главных компонент, у нас теперь нет названий числовых признаков, которые расположены в начале, но мы понимаем, что это они находятся в начале и ridge регрессия в таком формате большие веса даёт именно числовым характеристикам автомобилей"
      ],
      "metadata": {
        "id": "jhAb0ylCNZtt"
      }
    },
    {
      "cell_type": "markdown",
      "source": [
        "# ОПТИМИЗАЦИЯ ЛОГИСТИЧЕСКОЙ РЕГРЕССИИ"
      ],
      "metadata": {
        "id": "bOVSq3HENxQx"
      }
    },
    {
      "cell_type": "markdown",
      "source": [
        "## 1.  Для набора данных Cars Moldova"
      ],
      "metadata": {
        "id": "gwNn6XcgOlAT"
      }
    },
    {
      "cell_type": "markdown",
      "source": [
        "Возьмём тот же датасет"
      ],
      "metadata": {
        "id": "CJcJlrrWOn0Z"
      }
    },
    {
      "cell_type": "code",
      "source": [
        "df"
      ],
      "metadata": {
        "colab": {
          "base_uri": "https://localhost:8080/",
          "height": 424
        },
        "id": "fiHEbl86Osyj",
        "outputId": "102cb215-a900-4941-9501-9950e66b667c"
      },
      "execution_count": null,
      "outputs": [
        {
          "output_type": "execute_result",
          "data": {
            "text/plain": [
              "             Make         Model        Year      Style  Distance  \\\n",
              "0          Toyota         Prius  1293840001  Hatchback  195000.0   \n",
              "1         Renault  Grand Scenic  1388534401  Universal  135000.0   \n",
              "2      Volkswagen          Golf   883612801  Hatchback       1.0   \n",
              "3         Renault        Laguna  1325376001  Universal  110000.0   \n",
              "4            Opel         Astra  1136073601  Universal  200000.0   \n",
              "...           ...           ...         ...        ...       ...   \n",
              "36019  Land Rover    Freelander  1009843201  Crossover  225000.0   \n",
              "36020       Dacia     Logan Mcv  1420070401  Universal   89000.0   \n",
              "36021     Renault         Modus  1230768001  Hatchback     225.0   \n",
              "36022       Mazda             6  1136073601      Combi  370000.0   \n",
              "36023     Renault  Grand Scenic  1136073601    Minivan  300000.0   \n",
              "\n",
              "       Engine_capacity(cm3)     Fuel_type Transmission  Price(euro)  \\\n",
              "0                    1800.0        Hybrid    Automatic       7750.0   \n",
              "1                    1500.0        Diesel       Manual       8550.0   \n",
              "2                    1400.0        Petrol       Manual       2200.0   \n",
              "3                    1500.0        Diesel       Manual       6550.0   \n",
              "4                    1600.0  Metan/Propan       Manual       4100.0   \n",
              "...                     ...           ...          ...          ...   \n",
              "36019                1800.0  Metan/Propan       Manual       4400.0   \n",
              "36020                1500.0        Diesel       Manual       7000.0   \n",
              "36021                1500.0        Diesel       Manual       4500.0   \n",
              "36022                2000.0        Diesel       Manual       4000.0   \n",
              "36023                1500.0        Diesel       Manual       4000.0   \n",
              "\n",
              "       year_distance distance_type Make_rarity Price_cat Year_category  \n",
              "0       17727.272727          high        rare     cheap       regular  \n",
              "1       16875.000000       average        rare     cheap       regular  \n",
              "2           0.041667       optimal        rare   average           old  \n",
              "3       11000.000000       average        rare     cheap       regular  \n",
              "4       12500.000000          high        rare   average           old  \n",
              "...              ...           ...         ...       ...           ...  \n",
              "36019   11250.000000          high      common   average           old  \n",
              "36020   12714.285714       optimal        rare     cheap       regular  \n",
              "36021      17.307692       optimal        rare   average           old  \n",
              "36022   23125.000000     very_high        rare   average           old  \n",
              "36023   18750.000000     very_high        rare   average           old  \n",
              "\n",
              "[36024 rows x 14 columns]"
            ],
            "text/html": [
              "<div>\n",
              "<style scoped>\n",
              "    .dataframe tbody tr th:only-of-type {\n",
              "        vertical-align: middle;\n",
              "    }\n",
              "\n",
              "    .dataframe tbody tr th {\n",
              "        vertical-align: top;\n",
              "    }\n",
              "\n",
              "    .dataframe thead th {\n",
              "        text-align: right;\n",
              "    }\n",
              "</style>\n",
              "<table border=\"1\" class=\"dataframe\">\n",
              "  <thead>\n",
              "    <tr style=\"text-align: right;\">\n",
              "      <th></th>\n",
              "      <th>Make</th>\n",
              "      <th>Model</th>\n",
              "      <th>Year</th>\n",
              "      <th>Style</th>\n",
              "      <th>Distance</th>\n",
              "      <th>Engine_capacity(cm3)</th>\n",
              "      <th>Fuel_type</th>\n",
              "      <th>Transmission</th>\n",
              "      <th>Price(euro)</th>\n",
              "      <th>year_distance</th>\n",
              "      <th>distance_type</th>\n",
              "      <th>Make_rarity</th>\n",
              "      <th>Price_cat</th>\n",
              "      <th>Year_category</th>\n",
              "    </tr>\n",
              "  </thead>\n",
              "  <tbody>\n",
              "    <tr>\n",
              "      <th>0</th>\n",
              "      <td>Toyota</td>\n",
              "      <td>Prius</td>\n",
              "      <td>1293840001</td>\n",
              "      <td>Hatchback</td>\n",
              "      <td>195000.0</td>\n",
              "      <td>1800.0</td>\n",
              "      <td>Hybrid</td>\n",
              "      <td>Automatic</td>\n",
              "      <td>7750.0</td>\n",
              "      <td>17727.272727</td>\n",
              "      <td>high</td>\n",
              "      <td>rare</td>\n",
              "      <td>cheap</td>\n",
              "      <td>regular</td>\n",
              "    </tr>\n",
              "    <tr>\n",
              "      <th>1</th>\n",
              "      <td>Renault</td>\n",
              "      <td>Grand Scenic</td>\n",
              "      <td>1388534401</td>\n",
              "      <td>Universal</td>\n",
              "      <td>135000.0</td>\n",
              "      <td>1500.0</td>\n",
              "      <td>Diesel</td>\n",
              "      <td>Manual</td>\n",
              "      <td>8550.0</td>\n",
              "      <td>16875.000000</td>\n",
              "      <td>average</td>\n",
              "      <td>rare</td>\n",
              "      <td>cheap</td>\n",
              "      <td>regular</td>\n",
              "    </tr>\n",
              "    <tr>\n",
              "      <th>2</th>\n",
              "      <td>Volkswagen</td>\n",
              "      <td>Golf</td>\n",
              "      <td>883612801</td>\n",
              "      <td>Hatchback</td>\n",
              "      <td>1.0</td>\n",
              "      <td>1400.0</td>\n",
              "      <td>Petrol</td>\n",
              "      <td>Manual</td>\n",
              "      <td>2200.0</td>\n",
              "      <td>0.041667</td>\n",
              "      <td>optimal</td>\n",
              "      <td>rare</td>\n",
              "      <td>average</td>\n",
              "      <td>old</td>\n",
              "    </tr>\n",
              "    <tr>\n",
              "      <th>3</th>\n",
              "      <td>Renault</td>\n",
              "      <td>Laguna</td>\n",
              "      <td>1325376001</td>\n",
              "      <td>Universal</td>\n",
              "      <td>110000.0</td>\n",
              "      <td>1500.0</td>\n",
              "      <td>Diesel</td>\n",
              "      <td>Manual</td>\n",
              "      <td>6550.0</td>\n",
              "      <td>11000.000000</td>\n",
              "      <td>average</td>\n",
              "      <td>rare</td>\n",
              "      <td>cheap</td>\n",
              "      <td>regular</td>\n",
              "    </tr>\n",
              "    <tr>\n",
              "      <th>4</th>\n",
              "      <td>Opel</td>\n",
              "      <td>Astra</td>\n",
              "      <td>1136073601</td>\n",
              "      <td>Universal</td>\n",
              "      <td>200000.0</td>\n",
              "      <td>1600.0</td>\n",
              "      <td>Metan/Propan</td>\n",
              "      <td>Manual</td>\n",
              "      <td>4100.0</td>\n",
              "      <td>12500.000000</td>\n",
              "      <td>high</td>\n",
              "      <td>rare</td>\n",
              "      <td>average</td>\n",
              "      <td>old</td>\n",
              "    </tr>\n",
              "    <tr>\n",
              "      <th>...</th>\n",
              "      <td>...</td>\n",
              "      <td>...</td>\n",
              "      <td>...</td>\n",
              "      <td>...</td>\n",
              "      <td>...</td>\n",
              "      <td>...</td>\n",
              "      <td>...</td>\n",
              "      <td>...</td>\n",
              "      <td>...</td>\n",
              "      <td>...</td>\n",
              "      <td>...</td>\n",
              "      <td>...</td>\n",
              "      <td>...</td>\n",
              "      <td>...</td>\n",
              "    </tr>\n",
              "    <tr>\n",
              "      <th>36019</th>\n",
              "      <td>Land Rover</td>\n",
              "      <td>Freelander</td>\n",
              "      <td>1009843201</td>\n",
              "      <td>Crossover</td>\n",
              "      <td>225000.0</td>\n",
              "      <td>1800.0</td>\n",
              "      <td>Metan/Propan</td>\n",
              "      <td>Manual</td>\n",
              "      <td>4400.0</td>\n",
              "      <td>11250.000000</td>\n",
              "      <td>high</td>\n",
              "      <td>common</td>\n",
              "      <td>average</td>\n",
              "      <td>old</td>\n",
              "    </tr>\n",
              "    <tr>\n",
              "      <th>36020</th>\n",
              "      <td>Dacia</td>\n",
              "      <td>Logan Mcv</td>\n",
              "      <td>1420070401</td>\n",
              "      <td>Universal</td>\n",
              "      <td>89000.0</td>\n",
              "      <td>1500.0</td>\n",
              "      <td>Diesel</td>\n",
              "      <td>Manual</td>\n",
              "      <td>7000.0</td>\n",
              "      <td>12714.285714</td>\n",
              "      <td>optimal</td>\n",
              "      <td>rare</td>\n",
              "      <td>cheap</td>\n",
              "      <td>regular</td>\n",
              "    </tr>\n",
              "    <tr>\n",
              "      <th>36021</th>\n",
              "      <td>Renault</td>\n",
              "      <td>Modus</td>\n",
              "      <td>1230768001</td>\n",
              "      <td>Hatchback</td>\n",
              "      <td>225.0</td>\n",
              "      <td>1500.0</td>\n",
              "      <td>Diesel</td>\n",
              "      <td>Manual</td>\n",
              "      <td>4500.0</td>\n",
              "      <td>17.307692</td>\n",
              "      <td>optimal</td>\n",
              "      <td>rare</td>\n",
              "      <td>average</td>\n",
              "      <td>old</td>\n",
              "    </tr>\n",
              "    <tr>\n",
              "      <th>36022</th>\n",
              "      <td>Mazda</td>\n",
              "      <td>6</td>\n",
              "      <td>1136073601</td>\n",
              "      <td>Combi</td>\n",
              "      <td>370000.0</td>\n",
              "      <td>2000.0</td>\n",
              "      <td>Diesel</td>\n",
              "      <td>Manual</td>\n",
              "      <td>4000.0</td>\n",
              "      <td>23125.000000</td>\n",
              "      <td>very_high</td>\n",
              "      <td>rare</td>\n",
              "      <td>average</td>\n",
              "      <td>old</td>\n",
              "    </tr>\n",
              "    <tr>\n",
              "      <th>36023</th>\n",
              "      <td>Renault</td>\n",
              "      <td>Grand Scenic</td>\n",
              "      <td>1136073601</td>\n",
              "      <td>Minivan</td>\n",
              "      <td>300000.0</td>\n",
              "      <td>1500.0</td>\n",
              "      <td>Diesel</td>\n",
              "      <td>Manual</td>\n",
              "      <td>4000.0</td>\n",
              "      <td>18750.000000</td>\n",
              "      <td>very_high</td>\n",
              "      <td>rare</td>\n",
              "      <td>average</td>\n",
              "      <td>old</td>\n",
              "    </tr>\n",
              "  </tbody>\n",
              "</table>\n",
              "<p>36024 rows × 14 columns</p>\n",
              "</div>"
            ]
          },
          "metadata": {},
          "execution_count": 9
        }
      ]
    },
    {
      "cell_type": "code",
      "source": [
        "X = df.drop(columns='Transmission')\n",
        "y = df['Transmission']"
      ],
      "metadata": {
        "id": "zLJ-2opXO7Ut"
      },
      "execution_count": null,
      "outputs": []
    },
    {
      "cell_type": "code",
      "source": [
        "X_train, X_test, y_train, y_test = train_test_split(X, y, test_size=0.2, random_state=0)"
      ],
      "metadata": {
        "id": "MaCbjiJeSXfg"
      },
      "execution_count": null,
      "outputs": []
    },
    {
      "cell_type": "code",
      "source": [
        "numeric_features = ['Distance', 'Engine_capacity(cm3)', 'year_distance', 'Year', 'Price(euro)']\n",
        "numeric_transformer = Pipeline(\n",
        "    steps=[('poly', PolynomialFeatures(degree=3, include_bias=False)),  (\"pca\", PCA(n_components=13)), (\"scaler\", StandardScaler())]\n",
        ")\n",
        "\n",
        "categorical_features = ['Make', 'Model', 'Style', 'Fuel_type', \n",
        "                        'distance_type', 'Make_rarity', 'Price_cat', 'Year_category']\n",
        "categorical_transformer = OneHotEncoder(handle_unknown=\"ignore\")\n",
        "\n",
        "\n",
        "preprocessor = ColumnTransformer(\n",
        "    transformers=[\n",
        "        (\"num\", numeric_transformer, numeric_features),\n",
        "        (\"cat\", categorical_transformer, categorical_features)   \n",
        "    ]\n",
        ")"
      ],
      "metadata": {
        "id": "si5Xg8fWRkPl"
      },
      "execution_count": null,
      "outputs": []
    },
    {
      "cell_type": "markdown",
      "source": [
        "Модель также ошибалась при большом количестве полиномиальных фич и при нормализации, на автоматических коробках"
      ],
      "metadata": {
        "id": "pISsAfyGW_2M"
      }
    },
    {
      "cell_type": "markdown",
      "source": [
        "Были попробованы такие параметры:\n",
        "- `penalty` = l1:\n",
        "  * `solver` = liblinear\n",
        "  * `max_iter` = 100\n",
        "  * `tol` = 0.001\n",
        "  * `cv` = 5\n",
        "\n",
        "- `penalty` = l2:\n",
        "  * `solver` = liblinear, lbfgs, newton-cg\n",
        "  * `max_iter` = 100, 1000\n",
        "  * `tol` = 0.001, 0.0001\n",
        "  * `cv` = 5\n"
      ],
      "metadata": {
        "id": "DtgphzaYU36c"
      }
    },
    {
      "cell_type": "code",
      "source": [
        "log_reg = Pipeline(\n",
        "    steps=[(\"preprocessor\", preprocessor), (\"log\", LogisticRegressionCV(penalty='l2', tol=0.0001, max_iter=1000, solver='newton-cg', cv=5))]\n",
        ")\n",
        "\n",
        "log_reg.fit(X_train, y_train)"
      ],
      "metadata": {
        "colab": {
          "base_uri": "https://localhost:8080/",
          "height": 262
        },
        "id": "FdJ9Td8rRvKD",
        "outputId": "3adc82b0-4b66-4a76-f7f9-c2c2c5aef297"
      },
      "execution_count": null,
      "outputs": [
        {
          "output_type": "execute_result",
          "data": {
            "text/plain": [
              "Pipeline(steps=[('preprocessor',\n",
              "                 ColumnTransformer(transformers=[('num',\n",
              "                                                  Pipeline(steps=[('poly',\n",
              "                                                                   PolynomialFeatures(degree=3,\n",
              "                                                                                      include_bias=False)),\n",
              "                                                                  ('pca',\n",
              "                                                                   PCA(n_components=13)),\n",
              "                                                                  ('scaler',\n",
              "                                                                   StandardScaler())]),\n",
              "                                                  ['Distance',\n",
              "                                                   'Engine_capacity(cm3)',\n",
              "                                                   'year_distance', 'Year',\n",
              "                                                   'Price(euro)']),\n",
              "                                                 ('cat',\n",
              "                                                  OneHotEncoder(handle_unknown='ignore'),\n",
              "                                                  ['Make', 'Model', 'Style',\n",
              "                                                   'Fuel_type', 'distance_type',\n",
              "                                                   'Make_rarity', 'Price_cat',\n",
              "                                                   'Year_category'])])),\n",
              "                ('log',\n",
              "                 LogisticRegressionCV(cv=5, max_iter=1000,\n",
              "                                      solver='newton-cg'))])"
            ],
            "text/html": [
              "<style>#sk-container-id-2 {color: black;background-color: white;}#sk-container-id-2 pre{padding: 0;}#sk-container-id-2 div.sk-toggleable {background-color: white;}#sk-container-id-2 label.sk-toggleable__label {cursor: pointer;display: block;width: 100%;margin-bottom: 0;padding: 0.3em;box-sizing: border-box;text-align: center;}#sk-container-id-2 label.sk-toggleable__label-arrow:before {content: \"▸\";float: left;margin-right: 0.25em;color: #696969;}#sk-container-id-2 label.sk-toggleable__label-arrow:hover:before {color: black;}#sk-container-id-2 div.sk-estimator:hover label.sk-toggleable__label-arrow:before {color: black;}#sk-container-id-2 div.sk-toggleable__content {max-height: 0;max-width: 0;overflow: hidden;text-align: left;background-color: #f0f8ff;}#sk-container-id-2 div.sk-toggleable__content pre {margin: 0.2em;color: black;border-radius: 0.25em;background-color: #f0f8ff;}#sk-container-id-2 input.sk-toggleable__control:checked~div.sk-toggleable__content {max-height: 200px;max-width: 100%;overflow: auto;}#sk-container-id-2 input.sk-toggleable__control:checked~label.sk-toggleable__label-arrow:before {content: \"▾\";}#sk-container-id-2 div.sk-estimator input.sk-toggleable__control:checked~label.sk-toggleable__label {background-color: #d4ebff;}#sk-container-id-2 div.sk-label input.sk-toggleable__control:checked~label.sk-toggleable__label {background-color: #d4ebff;}#sk-container-id-2 input.sk-hidden--visually {border: 0;clip: rect(1px 1px 1px 1px);clip: rect(1px, 1px, 1px, 1px);height: 1px;margin: -1px;overflow: hidden;padding: 0;position: absolute;width: 1px;}#sk-container-id-2 div.sk-estimator {font-family: monospace;background-color: #f0f8ff;border: 1px dotted black;border-radius: 0.25em;box-sizing: border-box;margin-bottom: 0.5em;}#sk-container-id-2 div.sk-estimator:hover {background-color: #d4ebff;}#sk-container-id-2 div.sk-parallel-item::after {content: \"\";width: 100%;border-bottom: 1px solid gray;flex-grow: 1;}#sk-container-id-2 div.sk-label:hover label.sk-toggleable__label {background-color: #d4ebff;}#sk-container-id-2 div.sk-serial::before {content: \"\";position: absolute;border-left: 1px solid gray;box-sizing: border-box;top: 0;bottom: 0;left: 50%;z-index: 0;}#sk-container-id-2 div.sk-serial {display: flex;flex-direction: column;align-items: center;background-color: white;padding-right: 0.2em;padding-left: 0.2em;position: relative;}#sk-container-id-2 div.sk-item {position: relative;z-index: 1;}#sk-container-id-2 div.sk-parallel {display: flex;align-items: stretch;justify-content: center;background-color: white;position: relative;}#sk-container-id-2 div.sk-item::before, #sk-container-id-2 div.sk-parallel-item::before {content: \"\";position: absolute;border-left: 1px solid gray;box-sizing: border-box;top: 0;bottom: 0;left: 50%;z-index: -1;}#sk-container-id-2 div.sk-parallel-item {display: flex;flex-direction: column;z-index: 1;position: relative;background-color: white;}#sk-container-id-2 div.sk-parallel-item:first-child::after {align-self: flex-end;width: 50%;}#sk-container-id-2 div.sk-parallel-item:last-child::after {align-self: flex-start;width: 50%;}#sk-container-id-2 div.sk-parallel-item:only-child::after {width: 0;}#sk-container-id-2 div.sk-dashed-wrapped {border: 1px dashed gray;margin: 0 0.4em 0.5em 0.4em;box-sizing: border-box;padding-bottom: 0.4em;background-color: white;}#sk-container-id-2 div.sk-label label {font-family: monospace;font-weight: bold;display: inline-block;line-height: 1.2em;}#sk-container-id-2 div.sk-label-container {text-align: center;}#sk-container-id-2 div.sk-container {/* jupyter's `normalize.less` sets `[hidden] { display: none; }` but bootstrap.min.css set `[hidden] { display: none !important; }` so we also need the `!important` here to be able to override the default hidden behavior on the sphinx rendered scikit-learn.org. See: https://github.com/scikit-learn/scikit-learn/issues/21755 */display: inline-block !important;position: relative;}#sk-container-id-2 div.sk-text-repr-fallback {display: none;}</style><div id=\"sk-container-id-2\" class=\"sk-top-container\"><div class=\"sk-text-repr-fallback\"><pre>Pipeline(steps=[(&#x27;preprocessor&#x27;,\n",
              "                 ColumnTransformer(transformers=[(&#x27;num&#x27;,\n",
              "                                                  Pipeline(steps=[(&#x27;poly&#x27;,\n",
              "                                                                   PolynomialFeatures(degree=3,\n",
              "                                                                                      include_bias=False)),\n",
              "                                                                  (&#x27;pca&#x27;,\n",
              "                                                                   PCA(n_components=13)),\n",
              "                                                                  (&#x27;scaler&#x27;,\n",
              "                                                                   StandardScaler())]),\n",
              "                                                  [&#x27;Distance&#x27;,\n",
              "                                                   &#x27;Engine_capacity(cm3)&#x27;,\n",
              "                                                   &#x27;year_distance&#x27;, &#x27;Year&#x27;,\n",
              "                                                   &#x27;Price(euro)&#x27;]),\n",
              "                                                 (&#x27;cat&#x27;,\n",
              "                                                  OneHotEncoder(handle_unknown=&#x27;ignore&#x27;),\n",
              "                                                  [&#x27;Make&#x27;, &#x27;Model&#x27;, &#x27;Style&#x27;,\n",
              "                                                   &#x27;Fuel_type&#x27;, &#x27;distance_type&#x27;,\n",
              "                                                   &#x27;Make_rarity&#x27;, &#x27;Price_cat&#x27;,\n",
              "                                                   &#x27;Year_category&#x27;])])),\n",
              "                (&#x27;log&#x27;,\n",
              "                 LogisticRegressionCV(cv=5, max_iter=1000,\n",
              "                                      solver=&#x27;newton-cg&#x27;))])</pre><b>In a Jupyter environment, please rerun this cell to show the HTML representation or trust the notebook. <br />On GitHub, the HTML representation is unable to render, please try loading this page with nbviewer.org.</b></div><div class=\"sk-container\" hidden><div class=\"sk-item sk-dashed-wrapped\"><div class=\"sk-label-container\"><div class=\"sk-label sk-toggleable\"><input class=\"sk-toggleable__control sk-hidden--visually\" id=\"sk-estimator-id-10\" type=\"checkbox\" ><label for=\"sk-estimator-id-10\" class=\"sk-toggleable__label sk-toggleable__label-arrow\">Pipeline</label><div class=\"sk-toggleable__content\"><pre>Pipeline(steps=[(&#x27;preprocessor&#x27;,\n",
              "                 ColumnTransformer(transformers=[(&#x27;num&#x27;,\n",
              "                                                  Pipeline(steps=[(&#x27;poly&#x27;,\n",
              "                                                                   PolynomialFeatures(degree=3,\n",
              "                                                                                      include_bias=False)),\n",
              "                                                                  (&#x27;pca&#x27;,\n",
              "                                                                   PCA(n_components=13)),\n",
              "                                                                  (&#x27;scaler&#x27;,\n",
              "                                                                   StandardScaler())]),\n",
              "                                                  [&#x27;Distance&#x27;,\n",
              "                                                   &#x27;Engine_capacity(cm3)&#x27;,\n",
              "                                                   &#x27;year_distance&#x27;, &#x27;Year&#x27;,\n",
              "                                                   &#x27;Price(euro)&#x27;]),\n",
              "                                                 (&#x27;cat&#x27;,\n",
              "                                                  OneHotEncoder(handle_unknown=&#x27;ignore&#x27;),\n",
              "                                                  [&#x27;Make&#x27;, &#x27;Model&#x27;, &#x27;Style&#x27;,\n",
              "                                                   &#x27;Fuel_type&#x27;, &#x27;distance_type&#x27;,\n",
              "                                                   &#x27;Make_rarity&#x27;, &#x27;Price_cat&#x27;,\n",
              "                                                   &#x27;Year_category&#x27;])])),\n",
              "                (&#x27;log&#x27;,\n",
              "                 LogisticRegressionCV(cv=5, max_iter=1000,\n",
              "                                      solver=&#x27;newton-cg&#x27;))])</pre></div></div></div><div class=\"sk-serial\"><div class=\"sk-item sk-dashed-wrapped\"><div class=\"sk-label-container\"><div class=\"sk-label sk-toggleable\"><input class=\"sk-toggleable__control sk-hidden--visually\" id=\"sk-estimator-id-11\" type=\"checkbox\" ><label for=\"sk-estimator-id-11\" class=\"sk-toggleable__label sk-toggleable__label-arrow\">preprocessor: ColumnTransformer</label><div class=\"sk-toggleable__content\"><pre>ColumnTransformer(transformers=[(&#x27;num&#x27;,\n",
              "                                 Pipeline(steps=[(&#x27;poly&#x27;,\n",
              "                                                  PolynomialFeatures(degree=3,\n",
              "                                                                     include_bias=False)),\n",
              "                                                 (&#x27;pca&#x27;, PCA(n_components=13)),\n",
              "                                                 (&#x27;scaler&#x27;, StandardScaler())]),\n",
              "                                 [&#x27;Distance&#x27;, &#x27;Engine_capacity(cm3)&#x27;,\n",
              "                                  &#x27;year_distance&#x27;, &#x27;Year&#x27;, &#x27;Price(euro)&#x27;]),\n",
              "                                (&#x27;cat&#x27;, OneHotEncoder(handle_unknown=&#x27;ignore&#x27;),\n",
              "                                 [&#x27;Make&#x27;, &#x27;Model&#x27;, &#x27;Style&#x27;, &#x27;Fuel_type&#x27;,\n",
              "                                  &#x27;distance_type&#x27;, &#x27;Make_rarity&#x27;, &#x27;Price_cat&#x27;,\n",
              "                                  &#x27;Year_category&#x27;])])</pre></div></div></div><div class=\"sk-parallel\"><div class=\"sk-parallel-item\"><div class=\"sk-item\"><div class=\"sk-label-container\"><div class=\"sk-label sk-toggleable\"><input class=\"sk-toggleable__control sk-hidden--visually\" id=\"sk-estimator-id-12\" type=\"checkbox\" ><label for=\"sk-estimator-id-12\" class=\"sk-toggleable__label sk-toggleable__label-arrow\">num</label><div class=\"sk-toggleable__content\"><pre>[&#x27;Distance&#x27;, &#x27;Engine_capacity(cm3)&#x27;, &#x27;year_distance&#x27;, &#x27;Year&#x27;, &#x27;Price(euro)&#x27;]</pre></div></div></div><div class=\"sk-serial\"><div class=\"sk-item\"><div class=\"sk-serial\"><div class=\"sk-item\"><div class=\"sk-estimator sk-toggleable\"><input class=\"sk-toggleable__control sk-hidden--visually\" id=\"sk-estimator-id-13\" type=\"checkbox\" ><label for=\"sk-estimator-id-13\" class=\"sk-toggleable__label sk-toggleable__label-arrow\">PolynomialFeatures</label><div class=\"sk-toggleable__content\"><pre>PolynomialFeatures(degree=3, include_bias=False)</pre></div></div></div><div class=\"sk-item\"><div class=\"sk-estimator sk-toggleable\"><input class=\"sk-toggleable__control sk-hidden--visually\" id=\"sk-estimator-id-14\" type=\"checkbox\" ><label for=\"sk-estimator-id-14\" class=\"sk-toggleable__label sk-toggleable__label-arrow\">PCA</label><div class=\"sk-toggleable__content\"><pre>PCA(n_components=13)</pre></div></div></div><div class=\"sk-item\"><div class=\"sk-estimator sk-toggleable\"><input class=\"sk-toggleable__control sk-hidden--visually\" id=\"sk-estimator-id-15\" type=\"checkbox\" ><label for=\"sk-estimator-id-15\" class=\"sk-toggleable__label sk-toggleable__label-arrow\">StandardScaler</label><div class=\"sk-toggleable__content\"><pre>StandardScaler()</pre></div></div></div></div></div></div></div></div><div class=\"sk-parallel-item\"><div class=\"sk-item\"><div class=\"sk-label-container\"><div class=\"sk-label sk-toggleable\"><input class=\"sk-toggleable__control sk-hidden--visually\" id=\"sk-estimator-id-16\" type=\"checkbox\" ><label for=\"sk-estimator-id-16\" class=\"sk-toggleable__label sk-toggleable__label-arrow\">cat</label><div class=\"sk-toggleable__content\"><pre>[&#x27;Make&#x27;, &#x27;Model&#x27;, &#x27;Style&#x27;, &#x27;Fuel_type&#x27;, &#x27;distance_type&#x27;, &#x27;Make_rarity&#x27;, &#x27;Price_cat&#x27;, &#x27;Year_category&#x27;]</pre></div></div></div><div class=\"sk-serial\"><div class=\"sk-item\"><div class=\"sk-estimator sk-toggleable\"><input class=\"sk-toggleable__control sk-hidden--visually\" id=\"sk-estimator-id-17\" type=\"checkbox\" ><label for=\"sk-estimator-id-17\" class=\"sk-toggleable__label sk-toggleable__label-arrow\">OneHotEncoder</label><div class=\"sk-toggleable__content\"><pre>OneHotEncoder(handle_unknown=&#x27;ignore&#x27;)</pre></div></div></div></div></div></div></div></div><div class=\"sk-item\"><div class=\"sk-estimator sk-toggleable\"><input class=\"sk-toggleable__control sk-hidden--visually\" id=\"sk-estimator-id-18\" type=\"checkbox\" ><label for=\"sk-estimator-id-18\" class=\"sk-toggleable__label sk-toggleable__label-arrow\">LogisticRegressionCV</label><div class=\"sk-toggleable__content\"><pre>LogisticRegressionCV(cv=5, max_iter=1000, solver=&#x27;newton-cg&#x27;)</pre></div></div></div></div></div></div></div>"
            ]
          },
          "metadata": {},
          "execution_count": 13
        }
      ]
    },
    {
      "cell_type": "code",
      "source": [
        "y_pred = log_reg.predict(X_test)\n",
        "\n",
        "print(classification_report(y_test, y_pred))"
      ],
      "metadata": {
        "colab": {
          "base_uri": "https://localhost:8080/"
        },
        "id": "lNwIhH_PScZU",
        "outputId": "f5f68de1-f6bc-4f30-f64c-2bed69a88bd6"
      },
      "execution_count": null,
      "outputs": [
        {
          "output_type": "stream",
          "name": "stdout",
          "text": [
            "              precision    recall  f1-score   support\n",
            "\n",
            "   Automatic       0.88      0.80      0.83      3162\n",
            "      Manual       0.85      0.91      0.88      4043\n",
            "\n",
            "    accuracy                           0.86      7205\n",
            "   macro avg       0.86      0.85      0.86      7205\n",
            "weighted avg       0.86      0.86      0.86      7205\n",
            "\n"
          ]
        }
      ]
    },
    {
      "cell_type": "markdown",
      "source": [
        "Результат, почему-то не меняется, по сравнению с тем, что было при прошлых попытках предсказать тип коробки передач, однако, в данном случае использование пайплайна отразилось на времени затраченном на построение прогноза и валидацию модели."
      ],
      "metadata": {
        "id": "zXE2r1PpVhf3"
      }
    },
    {
      "cell_type": "code",
      "source": [
        "plot_weights(log_reg['log'].coef_)"
      ],
      "metadata": {
        "colab": {
          "base_uri": "https://localhost:8080/",
          "height": 542
        },
        "id": "nkS_mipnV7kx",
        "outputId": "5350ca6b-39b5-47bf-a6c5-d77eac161dde"
      },
      "execution_count": null,
      "outputs": [
        {
          "output_type": "display_data",
          "data": {
            "text/html": [
              "<html>\n",
              "<head><meta charset=\"utf-8\" /></head>\n",
              "<body>\n",
              "    <div>            <script src=\"https://cdnjs.cloudflare.com/ajax/libs/mathjax/2.7.5/MathJax.js?config=TeX-AMS-MML_SVG\"></script><script type=\"text/javascript\">if (window.MathJax && window.MathJax.Hub && window.MathJax.Hub.Config) {window.MathJax.Hub.Config({SVG: {font: \"STIX-Web\"}});}</script>                <script type=\"text/javascript\">window.PlotlyConfig = {MathJaxConfig: 'local'};</script>\n",
              "        <script src=\"https://cdn.plot.ly/plotly-2.16.1.min.js\"></script>                <div id=\"441024a3-f853-4153-897f-f1629efbc649\" class=\"plotly-graph-div\" style=\"height:525px; width:100%;\"></div>            <script type=\"text/javascript\">                                    window.PLOTLYENV=window.PLOTLYENV || {};                                    if (document.getElementById(\"441024a3-f853-4153-897f-f1629efbc649\")) {                    Plotly.newPlot(                        \"441024a3-f853-4153-897f-f1629efbc649\",                        [{\"alignmentgroup\":\"True\",\"hovertemplate\":\"c=<0<br>x=%{x}<br>y=%{y}<extra></extra>\",\"legendgroup\":\"<0\",\"marker\":{\"color\":\"red\",\"pattern\":{\"shape\":\"\"}},\"name\":\"<0\",\"offsetgroup\":\"<0\",\"orientation\":\"v\",\"showlegend\":true,\"textposition\":\"auto\",\"x\":[\"w0\",\"w1\",\"w2\",\"w7\",\"w8\",\"w10\",\"w13\",\"w14\",\"w15\",\"w18\",\"w20\",\"w22\",\"w24\",\"w25\",\"w26\",\"w27\",\"w28\",\"w31\",\"w33\",\"w34\",\"w37\",\"w39\",\"w44\",\"w45\",\"w46\",\"w48\",\"w50\",\"w51\",\"w52\",\"w53\",\"w56\",\"w57\",\"w59\",\"w61\",\"w62\",\"w64\",\"w66\",\"w70\",\"w72\",\"w73\",\"w74\",\"w78\",\"w81\",\"w82\",\"w86\",\"w87\",\"w93\",\"w96\",\"w98\",\"w101\",\"w105\",\"w108\",\"w109\",\"w111\",\"w116\",\"w134\",\"w141\",\"w142\",\"w144\",\"w145\",\"w146\",\"w150\",\"w155\",\"w157\",\"w161\",\"w163\",\"w164\",\"w166\",\"w167\",\"w168\",\"w170\",\"w171\",\"w172\",\"w174\",\"w177\",\"w179\",\"w180\",\"w181\",\"w182\",\"w183\",\"w186\",\"w187\",\"w189\",\"w191\",\"w196\",\"w197\",\"w199\",\"w200\",\"w201\",\"w203\",\"w204\",\"w205\",\"w206\",\"w208\",\"w209\",\"w213\",\"w215\",\"w216\",\"w217\",\"w221\",\"w223\",\"w226\",\"w227\",\"w230\",\"w231\",\"w232\",\"w233\",\"w235\",\"w236\",\"w243\",\"w244\",\"w246\",\"w247\",\"w251\",\"w253\",\"w255\",\"w257\",\"w258\",\"w259\",\"w262\",\"w263\",\"w264\",\"w265\",\"w266\",\"w267\",\"w269\",\"w270\",\"w271\",\"w274\",\"w276\",\"w277\",\"w278\",\"w279\",\"w281\",\"w282\",\"w284\",\"w285\",\"w288\",\"w290\",\"w292\",\"w293\",\"w295\",\"w302\",\"w309\",\"w310\",\"w315\",\"w316\",\"w318\",\"w320\",\"w321\",\"w322\",\"w323\",\"w324\",\"w329\",\"w332\",\"w335\",\"w336\",\"w337\",\"w340\",\"w342\",\"w343\",\"w345\",\"w346\",\"w347\",\"w348\",\"w350\",\"w351\",\"w353\",\"w354\",\"w355\",\"w360\",\"w361\",\"w362\",\"w368\",\"w369\",\"w370\",\"w371\",\"w372\",\"w374\",\"w376\",\"w377\",\"w378\",\"w379\",\"w380\",\"w383\",\"w384\",\"w385\",\"w386\",\"w387\",\"w391\",\"w393\",\"w395\",\"w396\",\"w397\",\"w401\",\"w403\",\"w416\",\"w417\",\"w420\",\"w421\",\"w422\",\"w425\",\"w426\",\"w427\",\"w428\",\"w429\",\"w430\",\"w431\",\"w432\",\"w433\",\"w434\",\"w435\",\"w436\",\"w438\",\"w443\",\"w444\",\"w448\",\"w449\",\"w450\",\"w451\",\"w452\",\"w456\",\"w458\",\"w460\",\"w462\",\"w466\",\"w468\",\"w469\",\"w470\",\"w471\",\"w472\",\"w474\",\"w478\",\"w479\",\"w481\",\"w483\",\"w485\",\"w486\",\"w487\",\"w488\",\"w489\",\"w490\",\"w491\",\"w494\",\"w496\",\"w498\",\"w502\",\"w507\",\"w508\",\"w509\",\"w511\",\"w514\",\"w517\",\"w518\",\"w527\",\"w528\",\"w536\",\"w537\",\"w539\",\"w541\",\"w542\",\"w544\",\"w547\",\"w549\",\"w550\",\"w552\",\"w554\",\"w556\",\"w559\",\"w560\",\"w561\",\"w562\",\"w563\",\"w565\",\"w568\",\"w570\",\"w571\",\"w575\",\"w578\",\"w580\",\"w582\",\"w583\",\"w585\",\"w586\",\"w590\",\"w592\",\"w594\",\"w596\",\"w597\",\"w600\",\"w602\",\"w603\",\"w608\",\"w609\",\"w611\",\"w612\",\"w613\",\"w614\",\"w616\",\"w617\",\"w618\",\"w623\",\"w624\",\"w633\",\"w636\",\"w637\",\"w638\",\"w639\",\"w640\",\"w645\",\"w646\",\"w647\",\"w648\",\"w649\",\"w650\",\"w651\",\"w652\",\"w653\",\"w654\",\"w655\",\"w659\",\"w661\",\"w662\",\"w663\",\"w665\",\"w666\",\"w667\",\"w670\",\"w672\",\"w673\",\"w675\",\"w678\",\"w679\",\"w682\",\"w684\",\"w685\",\"w686\",\"w688\",\"w690\",\"w692\",\"w694\",\"w695\",\"w696\",\"w697\",\"w699\",\"w700\",\"w701\",\"w702\",\"w703\",\"w704\",\"w709\",\"w711\",\"w713\",\"w716\",\"w718\",\"w719\",\"w720\",\"w724\",\"w725\",\"w730\",\"w732\",\"w735\",\"w736\",\"w737\",\"w739\",\"w741\",\"w746\",\"w750\",\"w752\",\"w753\",\"w755\",\"w758\",\"w759\",\"w761\",\"w764\",\"w767\",\"w768\",\"w769\",\"w770\",\"w774\",\"w776\",\"w777\",\"w778\",\"w779\",\"w780\",\"w781\",\"w782\",\"w784\",\"w785\",\"w789\",\"w793\",\"w795\",\"w796\",\"w798\",\"w800\",\"w801\",\"w803\",\"w804\",\"w805\",\"w806\",\"w808\",\"w809\",\"w810\",\"w812\",\"w813\",\"w814\",\"w818\",\"w820\",\"w823\",\"w829\",\"w830\",\"w833\",\"w835\",\"w836\",\"w837\",\"w838\",\"w839\",\"w840\",\"w841\",\"w842\",\"w843\",\"w844\",\"w846\",\"w847\",\"w849\",\"w851\",\"w853\",\"w854\",\"w855\",\"w857\",\"w858\",\"w860\",\"w861\",\"w862\",\"w863\",\"w864\",\"w865\",\"w866\",\"w867\",\"w870\",\"w871\",\"w873\",\"w874\",\"w875\",\"w876\",\"w877\",\"w883\",\"w884\",\"w887\",\"w888\",\"w891\",\"w892\",\"w894\",\"w896\",\"w899\",\"w900\"],\"xaxis\":\"x\",\"y\":[-1.613981455585125,-0.1051993715552107,-1.0354278936158319,-0.2819490483630984,-0.10657945404935756,-0.17033937828750306,-3.0916623829946324,-1.3795330486356947,-0.9474253951817488,-0.05786444979142418,-0.9619730242448218,-3.027312331481721,-3.2244683256876425,-1.873329647881198,-0.599833322104754,-1.2161180290844815,-1.2883665676807166,-0.6357867361765634,-0.4225499709095075,-3.908106130983491,-0.8310070988074689,-2.07963101736849,-1.9779642221304137,-0.09989041723524274,-2.117713545293573,-5.97045728141244,-2.123750812131894,-2.4698768885244355,-0.05756062888717364,-1.072395325050849,-1.1054500518628256,-3.9974977704417176,-3.4140083958591694,-0.7419001850144324,-0.6156148332910664,-1.6421739034192144,-2.3487551602221717,-0.4044173345839415,-2.9506501662323377,-0.5864191524903113,-1.0549495058988212,-3.500725156256904,-4.285162085075548,-0.2174404470572887,-0.40241742158334276,-1.6871107820268607,-1.7700719891134968,-4.816836521105496,-1.4985854662246998,-2.798297562225058,-1.6915013380187165,-3.6804454784860448,-0.4959917660732737,-0.7846191671970928,-1.0075675092615637,-2.678846480124564,-0.013148678550647754,-1.1884527799800186,-1.1293705870951374,-3.4368578561246443,-3.497025606361945,-0.06519455988865364,-3.103303516719881,-0.37226926273562405,-0.3777141277024837,-0.6640245814218991,-3.1378300045543255,-2.8188715522067596,-0.28317279469174944,-3.52152151103242,-4.8229498433636175,-3.7493257747053077,-1.2439955706774044,-3.415283960102506,-1.565589960159005,-2.334400017402201,-8.949957751197676,-1.8456883107212887,-0.32467349721971234,-1.8687441779245308,-3.3255633585027042,-7.728571652079293,-2.966213769385965,-0.23361486026304834,-2.6302161952117102,-5.224812042334284,-0.4381915454090406,-0.42716274389909537,-0.4234761887085265,-0.8120458225161417,-3.723002873043883,-3.2095259151617888,-1.119117208358355,-0.7329802335576893,-1.8516192770848543,-1.7032138873660396,-1.4616747231465121,-1.8683008022416279,-0.6747802857916776,-1.8073303813355177,-2.55328727127772,-3.968312091134539,-1.3783008198473012,-1.6340891766384338,-3.575997608921302,-0.45596301260007127,-1.9457435741363536,-2.6077999214708174,-3.652319747371336,-5.986581842262536,-2.2933448102948653,-4.828579129186179,-4.4752383715742505,-3.617615524410121,-1.0914515858367448,-1.6409087351324827,-0.31202106695280746,-1.7761310248815971,-0.17305235070149644,-2.0270598811608442,-2.055781812142342,-1.2133962980950395,-0.8241166141278163,-0.4997282561260815,-2.6703388971408573,-2.278817692265234,-0.958503882886596,-1.510990192354973,-0.9885820396001472,-2.4529241206422685,-1.6813488786166235,-3.5863737455702003,-0.5562121255403613,-5.653398220386839,-1.1549973383511631,-2.316684528457293,-6.44678423685416,-1.873329647881198,-0.7863649015776109,-0.675963012287301,-4.153937264085487,-2.006752571262972,-0.43736286081717307,-3.0777111674569424,-0.2055200974251177,-0.06926082580298082,-0.19218337529994794,-3.5032826958129104,-0.9574690465949593,-0.3642173210970398,-0.3338071272975366,-1.5860427684571616,-0.008373812473070246,-0.7073054430939151,-5.0540202159240755,-1.5835978051212554,-1.0363252153688454,-0.2833897619105718,-1.7717785413090354,-1.3661262728694339,-0.5117333899761802,-4.727113439737867,-2.9267337215210083,-0.7697968143600792,-2.838741996858015,-3.3050597047418004,-3.9544030646545667,-2.765333228629365,-0.2582397170556871,-0.344010033139631,-4.526351531141077,-1.8560695438379529,-0.5377602110877061,-3.0654058176655252,-1.094984709670835,-0.38178843038490845,-0.045282261369406614,-3.7890035470016037,-2.2054081537783707,-2.302586517296274,-2.369048263017486,-1.5877634029555683,-0.04096217706470286,-0.8646317280698289,-1.955531848809443,-3.314997936653271,-2.61598860623949,-4.6354164170923395,-0.40533545455688225,-2.8583841925957865,-4.999724912351562,-5.682665105914541,-4.43323972832343,-0.519000664251734,-0.34277576308837343,-3.611822809988666,-0.14586632834313487,-3.948996589636258,-6.741852153707418,-1.9775873091681666,-4.338696480332708,-8.780450559849264,-0.04924390776389771,-1.5532074538048921,-1.9317163401941602,-3.7347793384038717,-2.4872860792128737,-4.300812821322465,-2.8427178834779645,-2.181740546170086,-1.1793858472057137,-3.3098194416832984,-1.0065701496518584,-0.23779117872791794,-1.174895323122308,-0.4645085746001632,-1.044164477648461,-1.8149942356874058,-1.9721006432114,-1.9754136060250962,-2.7913973737849838,-2.1782220075307053,-4.056674483146654,-6.321641621723545,-1.1998295433476678,-1.5688709181736826,-0.5488426271198904,-0.3791867977178687,-0.22460362036827475,-2.860988397021976,-0.11564376828337941,-0.7342919569502033,-0.4790062167095513,-2.0935327669423236,-1.5528100252290156,-0.022777433005787644,-6.7718356892007545,-1.2448438738775278,-1.5524310795369647,-1.0800148374781742,-1.0437359746537198,-0.7514093985782937,-2.5499600683202397,-1.3741738040442704,-1.370759526648063,-2.569978131355993,-4.793534109644401,-3.403934529770934,-4.507506632721173,-2.876293631848927,-4.656959248247836,-0.13491562581242178,-0.4364654201747089,-0.24405183534280908,-3.496542002179981,-0.794144153798377,-5.621964087867908,-3.2374030899684034,-3.618373476155213,-0.32285360660634826,-0.7603456439788873,-0.03750997109790152,-0.320038288031808,-1.0835670299854698,-3.7524381972828853,-2.6670862495969963,-0.5286708683499937,-2.626200746287134,-2.395766157550763,-3.126633640805822,-0.30780414319059674,-0.08831758643590906,-0.3140998351474338,-2.179154513985334,-2.805492331321526,-0.5471036232986501,-5.432076057242344,-6.132648140190528,-0.43959096173195816,-0.004006823301603246,-0.5004213220558722,-2.5223590692361637,-0.9421444106735876,-1.2346168589089817,-0.5160518824755129,-5.1079260578475685,-2.3943432802385334,-1.9005687669881923,-4.814331838654087,-1.1213503250391472,-0.5415798952570187,-2.6687150650740956,-0.781177866349937,-3.0106808678741133,-1.5785922274491266,-2.6241490569290984,-4.5523084538186405,-0.8822802205497502,-1.640692037381484,-7.993338068321425,-2.4105887012346225,-1.9468273578335726,-0.7128020754428518,-0.9125752254255108,-1.8578349583512297,-2.7759341751978677,-0.939363589735494,-1.376682819404442,-2.2574402744304085,-2.5933778498826854,-0.3230937641666729,-0.869681113272097,-2.711277653094976,-5.011641991447497,-0.23277151067964738,-0.024805971381218754,-0.3010082186005356,-0.07805996629592472,-0.003859024692519608,-0.0016211728286102288,-5.964677526986074,-3.3586267089581523,-5.84158989545298,-5.0864099217688645,-0.15583757378036722,-2.448029038899796,-3.20095687880225,-0.6122873319191147,-0.4488194013507732,-0.43994451943674173,-0.09548584664541974,-1.6545642454350915,-1.2642430580663762,-3.977486271451458,-2.2870209959045873,-2.8092071989019787,-2.9084480965765964,-6.627030942787885,-2.1901642208280307,-2.825828676155026,-1.6305546114294092,-0.4729158708236879,-2.5029023744259513,-2.1239980973643715,-4.715509334182494,-2.4167126591906336,-4.032140598352543,-0.15064579159782812,-3.1659648894061947,-2.0088076011787663,-1.3601919092683983,-4.929594332417587,-2.825239487110603,-0.6528486881283889,-0.2614988250281275,-1.3006569068286484,-3.728228807669152,-2.542132313758939,-0.9240424011186188,-0.002270341208973076,-4.553785546985335,-1.5803271059897372,-5.620260173539309,-3.504800165513637,-2.6706002702190235,-0.9919120680537019,-4.000884511492648,-2.5793074197995804,-1.4707000730058677,-3.2606405547235657,-0.20007136957017313,-0.7548470872750146,-2.52988438890341,-1.7700719891134968,-0.026867602799066522,-7.374832400175826,-1.463904675190846,-1.9533140379256444,-1.2149992892986614,-2.1321804130775353,-1.638163067637204,-0.14328854992342097,-1.0136579366483718,-0.8130215311597989,-2.557684336617411,-2.131336081924476,-1.7211665244940324,-2.27274173598051,-2.8382564128255146,-1.3526085896028908,-1.1277526705611383,-2.3437667344264472,-0.6578902660939316,-0.002754314886243454,-1.2179330388660883,-0.06535958773713912,-0.7308759329197821,-2.280277714754828,-2.996009940376824,-3.906529708653915,-1.0450106298231991,-0.5546443694956481,-0.5668608959780053,-0.607315314838158,-2.2199998821650095,-3.430278694509992,-1.460953384342664,-1.1367009656627447,-0.5035525058746875,-1.5216392792304536,-0.28161879203142853,-1.0030017144643912,-2.231468630634335,-1.6146501640554087,-3.610210782026458,-0.06612069217235483,-1.5568991578693248,-1.1887162149901607,-2.9601462836606305,-2.7360421039659464,-1.3547288955016565,-1.6144233419994296,-0.7209294611515298,-2.1519839343307297,-1.1258583577102879,-3.05072508884537,-0.6702144430926172,-0.8176414863109216,-2.1804175070916543,-4.33620414269478,-0.30614372788942157,-0.05443130522614537,-2.5226941942972685,-0.7088724214802044,-1.0892807741429895,-0.5050017771963945,-1.4334785887581436,-0.9411461618927669,-0.5947595951133023,-0.8622912592665638,-0.4225499709095075,-1.9648193992508345,-0.8518231638513827,-0.17732343663928427,-0.006484963457689248,-0.3765298608104365,-0.47465911539677885,-0.03869828091096889,-3.818907177528521,-0.7214594205333162,-6.036297731669232,-0.06740070006568619,-0.0740725069605917,-0.14360309320792014,-0.06508748214154483,-0.046378328735235466],\"yaxis\":\"y\",\"type\":\"bar\"},{\"alignmentgroup\":\"True\",\"hovertemplate\":\"c=>=0<br>x=%{x}<br>y=%{y}<extra></extra>\",\"legendgroup\":\">=0\",\"marker\":{\"color\":\"blue\",\"pattern\":{\"shape\":\"\"}},\"name\":\">=0\",\"offsetgroup\":\">=0\",\"orientation\":\"v\",\"showlegend\":true,\"textposition\":\"auto\",\"x\":[\"w3\",\"w4\",\"w5\",\"w6\",\"w9\",\"w11\",\"w12\",\"w16\",\"w17\",\"w19\",\"w21\",\"w23\",\"w29\",\"w30\",\"w32\",\"w35\",\"w36\",\"w38\",\"w40\",\"w41\",\"w42\",\"w43\",\"w47\",\"w49\",\"w54\",\"w55\",\"w58\",\"w60\",\"w63\",\"w65\",\"w67\",\"w68\",\"w69\",\"w71\",\"w75\",\"w76\",\"w77\",\"w79\",\"w80\",\"w83\",\"w84\",\"w85\",\"w88\",\"w89\",\"w90\",\"w91\",\"w92\",\"w94\",\"w95\",\"w97\",\"w99\",\"w100\",\"w102\",\"w103\",\"w104\",\"w106\",\"w107\",\"w110\",\"w112\",\"w113\",\"w114\",\"w115\",\"w117\",\"w118\",\"w119\",\"w120\",\"w121\",\"w122\",\"w123\",\"w124\",\"w125\",\"w126\",\"w127\",\"w128\",\"w129\",\"w130\",\"w131\",\"w132\",\"w133\",\"w135\",\"w136\",\"w137\",\"w138\",\"w139\",\"w140\",\"w143\",\"w147\",\"w148\",\"w149\",\"w151\",\"w152\",\"w153\",\"w154\",\"w156\",\"w158\",\"w159\",\"w160\",\"w162\",\"w165\",\"w169\",\"w173\",\"w175\",\"w176\",\"w178\",\"w184\",\"w185\",\"w188\",\"w190\",\"w192\",\"w193\",\"w194\",\"w195\",\"w198\",\"w202\",\"w207\",\"w210\",\"w211\",\"w212\",\"w214\",\"w218\",\"w219\",\"w220\",\"w222\",\"w224\",\"w225\",\"w228\",\"w229\",\"w234\",\"w237\",\"w238\",\"w239\",\"w240\",\"w241\",\"w242\",\"w245\",\"w248\",\"w249\",\"w250\",\"w252\",\"w254\",\"w256\",\"w260\",\"w261\",\"w268\",\"w272\",\"w273\",\"w275\",\"w280\",\"w283\",\"w286\",\"w287\",\"w289\",\"w291\",\"w294\",\"w296\",\"w297\",\"w298\",\"w299\",\"w300\",\"w301\",\"w303\",\"w304\",\"w305\",\"w306\",\"w307\",\"w308\",\"w311\",\"w312\",\"w313\",\"w314\",\"w317\",\"w319\",\"w325\",\"w326\",\"w327\",\"w328\",\"w330\",\"w331\",\"w333\",\"w334\",\"w338\",\"w339\",\"w341\",\"w344\",\"w349\",\"w352\",\"w356\",\"w357\",\"w358\",\"w359\",\"w363\",\"w364\",\"w365\",\"w366\",\"w367\",\"w373\",\"w375\",\"w381\",\"w382\",\"w388\",\"w389\",\"w390\",\"w392\",\"w394\",\"w398\",\"w399\",\"w400\",\"w402\",\"w404\",\"w405\",\"w406\",\"w407\",\"w408\",\"w409\",\"w410\",\"w411\",\"w412\",\"w413\",\"w414\",\"w415\",\"w418\",\"w419\",\"w423\",\"w424\",\"w437\",\"w439\",\"w440\",\"w441\",\"w442\",\"w445\",\"w446\",\"w447\",\"w453\",\"w454\",\"w455\",\"w457\",\"w459\",\"w461\",\"w463\",\"w464\",\"w465\",\"w467\",\"w473\",\"w475\",\"w476\",\"w477\",\"w480\",\"w482\",\"w484\",\"w492\",\"w493\",\"w495\",\"w497\",\"w499\",\"w500\",\"w501\",\"w503\",\"w504\",\"w505\",\"w506\",\"w510\",\"w512\",\"w513\",\"w515\",\"w516\",\"w519\",\"w520\",\"w521\",\"w522\",\"w523\",\"w524\",\"w525\",\"w526\",\"w529\",\"w530\",\"w531\",\"w532\",\"w533\",\"w534\",\"w535\",\"w538\",\"w540\",\"w543\",\"w545\",\"w546\",\"w548\",\"w551\",\"w553\",\"w555\",\"w557\",\"w558\",\"w564\",\"w566\",\"w567\",\"w569\",\"w572\",\"w573\",\"w574\",\"w576\",\"w577\",\"w579\",\"w581\",\"w584\",\"w587\",\"w588\",\"w589\",\"w591\",\"w593\",\"w595\",\"w598\",\"w599\",\"w601\",\"w604\",\"w605\",\"w606\",\"w607\",\"w610\",\"w615\",\"w619\",\"w620\",\"w621\",\"w622\",\"w625\",\"w626\",\"w627\",\"w628\",\"w629\",\"w630\",\"w631\",\"w632\",\"w634\",\"w635\",\"w641\",\"w642\",\"w643\",\"w644\",\"w656\",\"w657\",\"w658\",\"w660\",\"w664\",\"w668\",\"w669\",\"w671\",\"w674\",\"w676\",\"w677\",\"w680\",\"w681\",\"w683\",\"w687\",\"w689\",\"w691\",\"w693\",\"w698\",\"w705\",\"w706\",\"w707\",\"w708\",\"w710\",\"w712\",\"w714\",\"w715\",\"w717\",\"w721\",\"w722\",\"w723\",\"w726\",\"w727\",\"w728\",\"w729\",\"w731\",\"w733\",\"w734\",\"w738\",\"w740\",\"w742\",\"w743\",\"w744\",\"w745\",\"w747\",\"w748\",\"w749\",\"w751\",\"w754\",\"w756\",\"w757\",\"w760\",\"w762\",\"w763\",\"w765\",\"w766\",\"w771\",\"w772\",\"w773\",\"w775\",\"w783\",\"w786\",\"w787\",\"w788\",\"w790\",\"w791\",\"w792\",\"w794\",\"w797\",\"w799\",\"w802\",\"w807\",\"w811\",\"w815\",\"w816\",\"w817\",\"w819\",\"w821\",\"w822\",\"w824\",\"w825\",\"w826\",\"w827\",\"w828\",\"w831\",\"w832\",\"w834\",\"w845\",\"w848\",\"w850\",\"w852\",\"w856\",\"w859\",\"w868\",\"w869\",\"w872\",\"w878\",\"w879\",\"w880\",\"w881\",\"w882\",\"w885\",\"w886\",\"w889\",\"w890\",\"w893\",\"w895\",\"w897\",\"w898\",\"w901\"],\"xaxis\":\"x\",\"y\":[0.3451706758237029,0.8108401074285007,0.12919597027264265,0.042337191109352246,0.2119177662243053,0.16324479220712604,0.3282077505394074,2.741050774769043,0.35302461225973336,0.05377823631450244,0.24573506315456475,2.3494829237996773,0.8993898748036758,1.3005108105289767,1.7286574255066245,1.9023839440613883,2.887378393905413,4.09426436008737,0.7173741819496026,0.7741598376379066,2.059838498703063,2.1790812664443298,1.1883588799259999,1.952524763308418,3.2279205017624757,1.518771346961928,2.497048361857083,1.7779327242170788,0.9517342139455162,0.8164480076656842,3.508448632122675,1.1589433125932052,1.3226113713618532,1.3749947740355788,0.8313626197191888,0.8525318244349901,3.265461751371829,2.2309030527985407,0.9000508095711786,0.5516366192076111,2.55795036202679,2.8235317408165606,2.8745534974810605,5.479433027224265,1.3272697911560787,0.8614566623150477,2.0205241430379814,0.7821785058381732,0.2594979565464108,2.603130160449358,3.056612461971364,1.2404078103618938,0.5701212049990246,2.166539171099944,1.88847252005167,2.0838995255708297,4.329253990059053,1.1979657257887346,1.0359552581437963,0.7543791959877078,1.508937839126879,0.8800902835357561,2.4274042898919648,0.09650129986596803,0.01554544103841722,0.02836030330334642,0.3234857590243808,0.3977418600755227,0.8971870989041096,1.737364211321062,0.4051082024335696,0.7318811957184672,1.0641648421012102,1.1475536833214044,0.8813926266040545,1.2744204820677891,0.07081763938220226,0.9240917258333312,1.0918321969690177,0.08047409361344485,0.8796821912343328,0.245605070851346,0.7832093287789724,0.4246146723602872,3.471695896117784,0.6837462517871143,4.396661611014978,3.6658573494379407,0.5695425643834614,1.5914729030137198,0.8625485583639263,1.4490169504270374,0.5492605131210913,4.022908515121805,4.185052424095398,2.5791831656766826,3.686995428202994,0.2766418646463875,0.8634515248473055,1.2480339541847763,0.7349076109964899,3.455840937535465,2.6618676076006653,0.3905883764194951,2.9253347391804296,3.7360100379904075,1.2506353141590107,2.014434751877974,1.8404644639960126,1.4584010275352088,0.7120543454530199,1.3962154556451236,3.3633243206975787,0.024053987349029426,1.4034101360840907,0.18994805906024642,0.6738853294943825,2.6712314981025296,0.18061075071181681,4.0705346297818314,0.35302461225973336,2.6970722439486803,0.1123333629388221,1.5622405839825613,3.0990938917918247,0.6343535854271227,1.3548129682065502,2.9748504971565803,9.431553271700656,2.816622887701136,2.7744299832774955,1.9329260497427783,0.994522405282363,0.26194765636718226,4.544573255736563,4.7209734347288155,0.6925690877938329,1.8502571530888698,5.129380104811491,2.7812893718365346,0.4748954531603986,0.6496173645093727,1.4697181857043382,1.5652754564041256,2.8265125591109683,2.249776258516019,3.541516731652556,2.4802429940493766,1.6575030321637718,1.2856771591994474,3.0982313298988244,2.4754478325711045,1.3534021937230687,0.5773020762434279,0.5764918945770529,3.208725450470427,1.4253859568907608,4.72461042267676,0.3497502969143284,0.11157295101554975,1.9417853279431072,0.49153949781082557,0.7388325362653494,5.579214839680614,2.041611212357747,0.43495115844106663,1.7294731244071606,1.1925064236269143,0.5933007019673444,1.0540991240302242,0.25580561756626335,4.5778047425530906,3.246882632794117,0.8669629571420067,5.9018500715753195,1.1281367766228954,1.1668078975832354,0.14767223805631854,0.048137523304988585,2.1321044195634737,1.334532181844734,2.2974096123592815,5.459114601744116,4.069978544814284,0.563414847276894,4.053463562338476,2.6970486781547476,1.7721791043313826,8.261359483827468,1.579732742085153,2.2768331495362646,1.419261328046997,4.936635547842573,4.556429859652092,1.8424287612627843,1.5055583360215066,0.35116769336214754,1.3890758495998057,1.6941478594143176,0.4015729887561063,3.4728005869077023,3.2809279294790286,4.89040351228659,2.7712453716654615,2.434861821557469,2.030114546501933,4.390949756490505,0.4626797365556177,1.520468424630797,2.7176089468166658,0.8624131958833429,0.7932769280181088,1.8351022112328177,1.8930762306249647,3.1736413707582747,1.2518687698210307,5.998175540584858,0.508650127835227,0.5041372959489536,1.9508555004652923,2.732600806098316,1.0588493575940165,6.146404767872609,0.19148836983117054,1.9340315126039647,1.1887529421733762,1.5260209158430285,2.7641712893540897,0.0582633659120522,0.3049051664047964,1.294315425374379,3.1177885184515133,0.18651060726402302,0.41976562421151775,0.7778798921660781,0.04767649357395488,0.70772140326525,6.076329194646454,0.9362351059636888,0.9187619259256394,0.33373299716676663,3.307845783446551,6.852012497156348,5.228007742908863,5.844073779359374,0.6329627436394738,4.320956399954176,2.556213130849321,1.7987787545136333,0.4272849571739139,3.518202244253716,1.9993652096151915,0.28858960817450496,4.217545086255179,2.3901036389401087,0.0798444279342311,1.1581052436562613,3.939514761444607,1.4648026734442976,1.1984801051987162,2.648892409212706,0.766567823271643,1.8785591037918656,9.472415968653142,3.218171294474392,1.9558328652375097,1.6208333110041915,1.9965309168475962,1.5854397142450978,1.5562801345574553,3.876625134418216,2.1933569602703007,1.3754368581551772,0.1677449086942413,2.4000348315131457,2.13128471179548,0.3811496408452424,1.1722553047386282,3.106962999273437,1.8709168180474292,0.979977509751609,3.164685554582652,0.4830944101044681,3.88615347509129,2.183835431444486,1.4045194465541844,0.998965825068842,1.016591493018936,5.285051500035182,1.0250743331226861,0.4261777541805595,1.2763305874196256,2.6368468952404465,2.240128831877974,1.5566375932501473,1.3120618129704091,2.5504722829574584,2.9395810312067976,3.77826283972128,4.958124538480057,2.4486797650531678,3.6442629990947584,5.3483978625678645,6.658369615121178,0.02725511290421028,0.5855766424832795,0.6441565761892913,0.20390710599679773,5.509802744119094,2.8596443190517564,2.4500584569494865,2.840432298091648,1.1099972240483849,2.355852606421069,3.816971285266877,0.5721060592950243,2.967396860470119,2.716883659413378,0.1807209824559378,4.514050310679089,3.4122223278710435,1.7672235241462897,2.109082198383794,0.5498105608451953,2.9395122356560766,1.9150975990204548,4.867761343750484,3.5592204158174674,0.2775644992746781,1.9442311516075104,0.7298673286760008,0.3158119275282393,1.2382115760628296,4.10945645943546,3.3428941058161032,3.382831838655698,1.1890412436517954,1.6142800233635999,4.388917916444511,1.987378209031071,4.499990769278553,0.12643727759902743,5.126776174492238,0.41457580570242064,2.825330994306666,2.0259826104400087,0.6801722891432461,4.599953110510553,1.7740849504467011,0.11762040698716987,0.49909860045593407,0.7986702491956565,2.391507445356593,1.5274452662208555,2.0677154996988643,3.675182946320342,0.23784541164325118,5.2855679696438544,0.1112495392872121,2.4299617555797943,2.054404743687764,0.9822726317535396,3.8320731928907725,1.2482009455844685,4.0108862894078925,2.2186354104711903,0.9152132352403942,3.6290667053479666,2.059838498703063,0.3186848601171216,0.28945890731601476,3.4795213697975163,2.305107906786239,1.186117105278581,2.39203914612528,0.3282964799927768,1.8008029092193834,3.5828795063608148,3.309428979039637,3.533467595090334,2.0346378678883656,1.3977613568739282,1.9906126092328926,2.61320361092604,0.6062329554624225,1.9901471578656107,2.870122454385746,2.725285161545476,1.979609860427589,1.5082847537692585,1.4247638095252089,0.021948094028240644,2.7442210094336237,3.663074006299255,0.8173921982546437,1.7269860299733415,6.3693983436121595,3.875387974590667,6.318511746741347,5.5631734523405365,3.2693111507008696,0.8614104041702276,0.2436625534517324,1.7819270261799518,0.2981108663213351,3.995974172608606,4.407854960393726,1.6475659735731243,1.4796969852078912,3.233029754328275,1.9912440698406284,0.9102267335802023,1.9023839440613883,0.44723193894105306,0.7943807147394087,0.7150039568661749,5.484717548781456,5.500682519825192,1.533215609991051,3.0245852994962896,6.37787705409905,0.6201630510547153,0.7000895138285075,0.2964779119588308,2.7961298696620296,2.863326054910736,0.7732846231620654,6.5493556420562955,0.3817172685719552,0.9474144423970794,3.0146333756954315,1.8612998921045574,0.00945376869669918,0.15933182250911873,0.12968482332239623,0.5425938683404843,1.0050182843425814,0.07860830858928664,4.037716879040684,3.196471472763924,3.3416480326457285,0.09867690896300917,0.0419683527934171,0.14277514793671045,0.06425953688351199,0.04555038347281538],\"yaxis\":\"y\",\"type\":\"bar\"}],                        {\"template\":{\"data\":{\"histogram2dcontour\":[{\"type\":\"histogram2dcontour\",\"colorbar\":{\"outlinewidth\":0,\"ticks\":\"\"},\"colorscale\":[[0.0,\"#0d0887\"],[0.1111111111111111,\"#46039f\"],[0.2222222222222222,\"#7201a8\"],[0.3333333333333333,\"#9c179e\"],[0.4444444444444444,\"#bd3786\"],[0.5555555555555556,\"#d8576b\"],[0.6666666666666666,\"#ed7953\"],[0.7777777777777778,\"#fb9f3a\"],[0.8888888888888888,\"#fdca26\"],[1.0,\"#f0f921\"]]}],\"choropleth\":[{\"type\":\"choropleth\",\"colorbar\":{\"outlinewidth\":0,\"ticks\":\"\"}}],\"histogram2d\":[{\"type\":\"histogram2d\",\"colorbar\":{\"outlinewidth\":0,\"ticks\":\"\"},\"colorscale\":[[0.0,\"#0d0887\"],[0.1111111111111111,\"#46039f\"],[0.2222222222222222,\"#7201a8\"],[0.3333333333333333,\"#9c179e\"],[0.4444444444444444,\"#bd3786\"],[0.5555555555555556,\"#d8576b\"],[0.6666666666666666,\"#ed7953\"],[0.7777777777777778,\"#fb9f3a\"],[0.8888888888888888,\"#fdca26\"],[1.0,\"#f0f921\"]]}],\"heatmap\":[{\"type\":\"heatmap\",\"colorbar\":{\"outlinewidth\":0,\"ticks\":\"\"},\"colorscale\":[[0.0,\"#0d0887\"],[0.1111111111111111,\"#46039f\"],[0.2222222222222222,\"#7201a8\"],[0.3333333333333333,\"#9c179e\"],[0.4444444444444444,\"#bd3786\"],[0.5555555555555556,\"#d8576b\"],[0.6666666666666666,\"#ed7953\"],[0.7777777777777778,\"#fb9f3a\"],[0.8888888888888888,\"#fdca26\"],[1.0,\"#f0f921\"]]}],\"heatmapgl\":[{\"type\":\"heatmapgl\",\"colorbar\":{\"outlinewidth\":0,\"ticks\":\"\"},\"colorscale\":[[0.0,\"#0d0887\"],[0.1111111111111111,\"#46039f\"],[0.2222222222222222,\"#7201a8\"],[0.3333333333333333,\"#9c179e\"],[0.4444444444444444,\"#bd3786\"],[0.5555555555555556,\"#d8576b\"],[0.6666666666666666,\"#ed7953\"],[0.7777777777777778,\"#fb9f3a\"],[0.8888888888888888,\"#fdca26\"],[1.0,\"#f0f921\"]]}],\"contourcarpet\":[{\"type\":\"contourcarpet\",\"colorbar\":{\"outlinewidth\":0,\"ticks\":\"\"}}],\"contour\":[{\"type\":\"contour\",\"colorbar\":{\"outlinewidth\":0,\"ticks\":\"\"},\"colorscale\":[[0.0,\"#0d0887\"],[0.1111111111111111,\"#46039f\"],[0.2222222222222222,\"#7201a8\"],[0.3333333333333333,\"#9c179e\"],[0.4444444444444444,\"#bd3786\"],[0.5555555555555556,\"#d8576b\"],[0.6666666666666666,\"#ed7953\"],[0.7777777777777778,\"#fb9f3a\"],[0.8888888888888888,\"#fdca26\"],[1.0,\"#f0f921\"]]}],\"surface\":[{\"type\":\"surface\",\"colorbar\":{\"outlinewidth\":0,\"ticks\":\"\"},\"colorscale\":[[0.0,\"#0d0887\"],[0.1111111111111111,\"#46039f\"],[0.2222222222222222,\"#7201a8\"],[0.3333333333333333,\"#9c179e\"],[0.4444444444444444,\"#bd3786\"],[0.5555555555555556,\"#d8576b\"],[0.6666666666666666,\"#ed7953\"],[0.7777777777777778,\"#fb9f3a\"],[0.8888888888888888,\"#fdca26\"],[1.0,\"#f0f921\"]]}],\"mesh3d\":[{\"type\":\"mesh3d\",\"colorbar\":{\"outlinewidth\":0,\"ticks\":\"\"}}],\"scatter\":[{\"fillpattern\":{\"fillmode\":\"overlay\",\"size\":10,\"solidity\":0.2},\"type\":\"scatter\"}],\"parcoords\":[{\"type\":\"parcoords\",\"line\":{\"colorbar\":{\"outlinewidth\":0,\"ticks\":\"\"}}}],\"scatterpolargl\":[{\"type\":\"scatterpolargl\",\"marker\":{\"colorbar\":{\"outlinewidth\":0,\"ticks\":\"\"}}}],\"bar\":[{\"error_x\":{\"color\":\"#2a3f5f\"},\"error_y\":{\"color\":\"#2a3f5f\"},\"marker\":{\"line\":{\"color\":\"#E5ECF6\",\"width\":0.5},\"pattern\":{\"fillmode\":\"overlay\",\"size\":10,\"solidity\":0.2}},\"type\":\"bar\"}],\"scattergeo\":[{\"type\":\"scattergeo\",\"marker\":{\"colorbar\":{\"outlinewidth\":0,\"ticks\":\"\"}}}],\"scatterpolar\":[{\"type\":\"scatterpolar\",\"marker\":{\"colorbar\":{\"outlinewidth\":0,\"ticks\":\"\"}}}],\"histogram\":[{\"marker\":{\"pattern\":{\"fillmode\":\"overlay\",\"size\":10,\"solidity\":0.2}},\"type\":\"histogram\"}],\"scattergl\":[{\"type\":\"scattergl\",\"marker\":{\"colorbar\":{\"outlinewidth\":0,\"ticks\":\"\"}}}],\"scatter3d\":[{\"type\":\"scatter3d\",\"line\":{\"colorbar\":{\"outlinewidth\":0,\"ticks\":\"\"}},\"marker\":{\"colorbar\":{\"outlinewidth\":0,\"ticks\":\"\"}}}],\"scattermapbox\":[{\"type\":\"scattermapbox\",\"marker\":{\"colorbar\":{\"outlinewidth\":0,\"ticks\":\"\"}}}],\"scatterternary\":[{\"type\":\"scatterternary\",\"marker\":{\"colorbar\":{\"outlinewidth\":0,\"ticks\":\"\"}}}],\"scattercarpet\":[{\"type\":\"scattercarpet\",\"marker\":{\"colorbar\":{\"outlinewidth\":0,\"ticks\":\"\"}}}],\"carpet\":[{\"aaxis\":{\"endlinecolor\":\"#2a3f5f\",\"gridcolor\":\"white\",\"linecolor\":\"white\",\"minorgridcolor\":\"white\",\"startlinecolor\":\"#2a3f5f\"},\"baxis\":{\"endlinecolor\":\"#2a3f5f\",\"gridcolor\":\"white\",\"linecolor\":\"white\",\"minorgridcolor\":\"white\",\"startlinecolor\":\"#2a3f5f\"},\"type\":\"carpet\"}],\"table\":[{\"cells\":{\"fill\":{\"color\":\"#EBF0F8\"},\"line\":{\"color\":\"white\"}},\"header\":{\"fill\":{\"color\":\"#C8D4E3\"},\"line\":{\"color\":\"white\"}},\"type\":\"table\"}],\"barpolar\":[{\"marker\":{\"line\":{\"color\":\"#E5ECF6\",\"width\":0.5},\"pattern\":{\"fillmode\":\"overlay\",\"size\":10,\"solidity\":0.2}},\"type\":\"barpolar\"}],\"pie\":[{\"automargin\":true,\"type\":\"pie\"}]},\"layout\":{\"autotypenumbers\":\"strict\",\"colorway\":[\"#636efa\",\"#EF553B\",\"#00cc96\",\"#ab63fa\",\"#FFA15A\",\"#19d3f3\",\"#FF6692\",\"#B6E880\",\"#FF97FF\",\"#FECB52\"],\"font\":{\"color\":\"#2a3f5f\"},\"hovermode\":\"closest\",\"hoverlabel\":{\"align\":\"left\"},\"paper_bgcolor\":\"white\",\"plot_bgcolor\":\"#E5ECF6\",\"polar\":{\"bgcolor\":\"#E5ECF6\",\"angularaxis\":{\"gridcolor\":\"white\",\"linecolor\":\"white\",\"ticks\":\"\"},\"radialaxis\":{\"gridcolor\":\"white\",\"linecolor\":\"white\",\"ticks\":\"\"}},\"ternary\":{\"bgcolor\":\"#E5ECF6\",\"aaxis\":{\"gridcolor\":\"white\",\"linecolor\":\"white\",\"ticks\":\"\"},\"baxis\":{\"gridcolor\":\"white\",\"linecolor\":\"white\",\"ticks\":\"\"},\"caxis\":{\"gridcolor\":\"white\",\"linecolor\":\"white\",\"ticks\":\"\"}},\"coloraxis\":{\"colorbar\":{\"outlinewidth\":0,\"ticks\":\"\"}},\"colorscale\":{\"sequential\":[[0.0,\"#0d0887\"],[0.1111111111111111,\"#46039f\"],[0.2222222222222222,\"#7201a8\"],[0.3333333333333333,\"#9c179e\"],[0.4444444444444444,\"#bd3786\"],[0.5555555555555556,\"#d8576b\"],[0.6666666666666666,\"#ed7953\"],[0.7777777777777778,\"#fb9f3a\"],[0.8888888888888888,\"#fdca26\"],[1.0,\"#f0f921\"]],\"sequentialminus\":[[0.0,\"#0d0887\"],[0.1111111111111111,\"#46039f\"],[0.2222222222222222,\"#7201a8\"],[0.3333333333333333,\"#9c179e\"],[0.4444444444444444,\"#bd3786\"],[0.5555555555555556,\"#d8576b\"],[0.6666666666666666,\"#ed7953\"],[0.7777777777777778,\"#fb9f3a\"],[0.8888888888888888,\"#fdca26\"],[1.0,\"#f0f921\"]],\"diverging\":[[0,\"#8e0152\"],[0.1,\"#c51b7d\"],[0.2,\"#de77ae\"],[0.3,\"#f1b6da\"],[0.4,\"#fde0ef\"],[0.5,\"#f7f7f7\"],[0.6,\"#e6f5d0\"],[0.7,\"#b8e186\"],[0.8,\"#7fbc41\"],[0.9,\"#4d9221\"],[1,\"#276419\"]]},\"xaxis\":{\"gridcolor\":\"white\",\"linecolor\":\"white\",\"ticks\":\"\",\"title\":{\"standoff\":15},\"zerolinecolor\":\"white\",\"automargin\":true,\"zerolinewidth\":2},\"yaxis\":{\"gridcolor\":\"white\",\"linecolor\":\"white\",\"ticks\":\"\",\"title\":{\"standoff\":15},\"zerolinecolor\":\"white\",\"automargin\":true,\"zerolinewidth\":2},\"scene\":{\"xaxis\":{\"backgroundcolor\":\"#E5ECF6\",\"gridcolor\":\"white\",\"linecolor\":\"white\",\"showbackground\":true,\"ticks\":\"\",\"zerolinecolor\":\"white\",\"gridwidth\":2},\"yaxis\":{\"backgroundcolor\":\"#E5ECF6\",\"gridcolor\":\"white\",\"linecolor\":\"white\",\"showbackground\":true,\"ticks\":\"\",\"zerolinecolor\":\"white\",\"gridwidth\":2},\"zaxis\":{\"backgroundcolor\":\"#E5ECF6\",\"gridcolor\":\"white\",\"linecolor\":\"white\",\"showbackground\":true,\"ticks\":\"\",\"zerolinecolor\":\"white\",\"gridwidth\":2}},\"shapedefaults\":{\"line\":{\"color\":\"#2a3f5f\"}},\"annotationdefaults\":{\"arrowcolor\":\"#2a3f5f\",\"arrowhead\":0,\"arrowwidth\":1},\"geo\":{\"bgcolor\":\"white\",\"landcolor\":\"#E5ECF6\",\"subunitcolor\":\"white\",\"showland\":true,\"showlakes\":true,\"lakecolor\":\"white\"},\"title\":{\"x\":0.05},\"mapbox\":{\"style\":\"light\"}}},\"xaxis\":{\"anchor\":\"y\",\"domain\":[0.0,1.0],\"title\":{\"text\":\"x\"},\"categoryorder\":\"array\",\"categoryarray\":[\"w0\",\"w1\",\"w2\",\"w3\",\"w4\",\"w5\",\"w6\",\"w7\",\"w8\",\"w9\",\"w10\",\"w11\",\"w12\",\"w13\",\"w14\",\"w15\",\"w16\",\"w17\",\"w18\",\"w19\",\"w20\",\"w21\",\"w22\",\"w23\",\"w24\",\"w25\",\"w26\",\"w27\",\"w28\",\"w29\",\"w30\",\"w31\",\"w32\",\"w33\",\"w34\",\"w35\",\"w36\",\"w37\",\"w38\",\"w39\",\"w40\",\"w41\",\"w42\",\"w43\",\"w44\",\"w45\",\"w46\",\"w47\",\"w48\",\"w49\",\"w50\",\"w51\",\"w52\",\"w53\",\"w54\",\"w55\",\"w56\",\"w57\",\"w58\",\"w59\",\"w60\",\"w61\",\"w62\",\"w63\",\"w64\",\"w65\",\"w66\",\"w67\",\"w68\",\"w69\",\"w70\",\"w71\",\"w72\",\"w73\",\"w74\",\"w75\",\"w76\",\"w77\",\"w78\",\"w79\",\"w80\",\"w81\",\"w82\",\"w83\",\"w84\",\"w85\",\"w86\",\"w87\",\"w88\",\"w89\",\"w90\",\"w91\",\"w92\",\"w93\",\"w94\",\"w95\",\"w96\",\"w97\",\"w98\",\"w99\",\"w100\",\"w101\",\"w102\",\"w103\",\"w104\",\"w105\",\"w106\",\"w107\",\"w108\",\"w109\",\"w110\",\"w111\",\"w112\",\"w113\",\"w114\",\"w115\",\"w116\",\"w117\",\"w118\",\"w119\",\"w120\",\"w121\",\"w122\",\"w123\",\"w124\",\"w125\",\"w126\",\"w127\",\"w128\",\"w129\",\"w130\",\"w131\",\"w132\",\"w133\",\"w134\",\"w135\",\"w136\",\"w137\",\"w138\",\"w139\",\"w140\",\"w141\",\"w142\",\"w143\",\"w144\",\"w145\",\"w146\",\"w147\",\"w148\",\"w149\",\"w150\",\"w151\",\"w152\",\"w153\",\"w154\",\"w155\",\"w156\",\"w157\",\"w158\",\"w159\",\"w160\",\"w161\",\"w162\",\"w163\",\"w164\",\"w165\",\"w166\",\"w167\",\"w168\",\"w169\",\"w170\",\"w171\",\"w172\",\"w173\",\"w174\",\"w175\",\"w176\",\"w177\",\"w178\",\"w179\",\"w180\",\"w181\",\"w182\",\"w183\",\"w184\",\"w185\",\"w186\",\"w187\",\"w188\",\"w189\",\"w190\",\"w191\",\"w192\",\"w193\",\"w194\",\"w195\",\"w196\",\"w197\",\"w198\",\"w199\",\"w200\",\"w201\",\"w202\",\"w203\",\"w204\",\"w205\",\"w206\",\"w207\",\"w208\",\"w209\",\"w210\",\"w211\",\"w212\",\"w213\",\"w214\",\"w215\",\"w216\",\"w217\",\"w218\",\"w219\",\"w220\",\"w221\",\"w222\",\"w223\",\"w224\",\"w225\",\"w226\",\"w227\",\"w228\",\"w229\",\"w230\",\"w231\",\"w232\",\"w233\",\"w234\",\"w235\",\"w236\",\"w237\",\"w238\",\"w239\",\"w240\",\"w241\",\"w242\",\"w243\",\"w244\",\"w245\",\"w246\",\"w247\",\"w248\",\"w249\",\"w250\",\"w251\",\"w252\",\"w253\",\"w254\",\"w255\",\"w256\",\"w257\",\"w258\",\"w259\",\"w260\",\"w261\",\"w262\",\"w263\",\"w264\",\"w265\",\"w266\",\"w267\",\"w268\",\"w269\",\"w270\",\"w271\",\"w272\",\"w273\",\"w274\",\"w275\",\"w276\",\"w277\",\"w278\",\"w279\",\"w280\",\"w281\",\"w282\",\"w283\",\"w284\",\"w285\",\"w286\",\"w287\",\"w288\",\"w289\",\"w290\",\"w291\",\"w292\",\"w293\",\"w294\",\"w295\",\"w296\",\"w297\",\"w298\",\"w299\",\"w300\",\"w301\",\"w302\",\"w303\",\"w304\",\"w305\",\"w306\",\"w307\",\"w308\",\"w309\",\"w310\",\"w311\",\"w312\",\"w313\",\"w314\",\"w315\",\"w316\",\"w317\",\"w318\",\"w319\",\"w320\",\"w321\",\"w322\",\"w323\",\"w324\",\"w325\",\"w326\",\"w327\",\"w328\",\"w329\",\"w330\",\"w331\",\"w332\",\"w333\",\"w334\",\"w335\",\"w336\",\"w337\",\"w338\",\"w339\",\"w340\",\"w341\",\"w342\",\"w343\",\"w344\",\"w345\",\"w346\",\"w347\",\"w348\",\"w349\",\"w350\",\"w351\",\"w352\",\"w353\",\"w354\",\"w355\",\"w356\",\"w357\",\"w358\",\"w359\",\"w360\",\"w361\",\"w362\",\"w363\",\"w364\",\"w365\",\"w366\",\"w367\",\"w368\",\"w369\",\"w370\",\"w371\",\"w372\",\"w373\",\"w374\",\"w375\",\"w376\",\"w377\",\"w378\",\"w379\",\"w380\",\"w381\",\"w382\",\"w383\",\"w384\",\"w385\",\"w386\",\"w387\",\"w388\",\"w389\",\"w390\",\"w391\",\"w392\",\"w393\",\"w394\",\"w395\",\"w396\",\"w397\",\"w398\",\"w399\",\"w400\",\"w401\",\"w402\",\"w403\",\"w404\",\"w405\",\"w406\",\"w407\",\"w408\",\"w409\",\"w410\",\"w411\",\"w412\",\"w413\",\"w414\",\"w415\",\"w416\",\"w417\",\"w418\",\"w419\",\"w420\",\"w421\",\"w422\",\"w423\",\"w424\",\"w425\",\"w426\",\"w427\",\"w428\",\"w429\",\"w430\",\"w431\",\"w432\",\"w433\",\"w434\",\"w435\",\"w436\",\"w437\",\"w438\",\"w439\",\"w440\",\"w441\",\"w442\",\"w443\",\"w444\",\"w445\",\"w446\",\"w447\",\"w448\",\"w449\",\"w450\",\"w451\",\"w452\",\"w453\",\"w454\",\"w455\",\"w456\",\"w457\",\"w458\",\"w459\",\"w460\",\"w461\",\"w462\",\"w463\",\"w464\",\"w465\",\"w466\",\"w467\",\"w468\",\"w469\",\"w470\",\"w471\",\"w472\",\"w473\",\"w474\",\"w475\",\"w476\",\"w477\",\"w478\",\"w479\",\"w480\",\"w481\",\"w482\",\"w483\",\"w484\",\"w485\",\"w486\",\"w487\",\"w488\",\"w489\",\"w490\",\"w491\",\"w492\",\"w493\",\"w494\",\"w495\",\"w496\",\"w497\",\"w498\",\"w499\",\"w500\",\"w501\",\"w502\",\"w503\",\"w504\",\"w505\",\"w506\",\"w507\",\"w508\",\"w509\",\"w510\",\"w511\",\"w512\",\"w513\",\"w514\",\"w515\",\"w516\",\"w517\",\"w518\",\"w519\",\"w520\",\"w521\",\"w522\",\"w523\",\"w524\",\"w525\",\"w526\",\"w527\",\"w528\",\"w529\",\"w530\",\"w531\",\"w532\",\"w533\",\"w534\",\"w535\",\"w536\",\"w537\",\"w538\",\"w539\",\"w540\",\"w541\",\"w542\",\"w543\",\"w544\",\"w545\",\"w546\",\"w547\",\"w548\",\"w549\",\"w550\",\"w551\",\"w552\",\"w553\",\"w554\",\"w555\",\"w556\",\"w557\",\"w558\",\"w559\",\"w560\",\"w561\",\"w562\",\"w563\",\"w564\",\"w565\",\"w566\",\"w567\",\"w568\",\"w569\",\"w570\",\"w571\",\"w572\",\"w573\",\"w574\",\"w575\",\"w576\",\"w577\",\"w578\",\"w579\",\"w580\",\"w581\",\"w582\",\"w583\",\"w584\",\"w585\",\"w586\",\"w587\",\"w588\",\"w589\",\"w590\",\"w591\",\"w592\",\"w593\",\"w594\",\"w595\",\"w596\",\"w597\",\"w598\",\"w599\",\"w600\",\"w601\",\"w602\",\"w603\",\"w604\",\"w605\",\"w606\",\"w607\",\"w608\",\"w609\",\"w610\",\"w611\",\"w612\",\"w613\",\"w614\",\"w615\",\"w616\",\"w617\",\"w618\",\"w619\",\"w620\",\"w621\",\"w622\",\"w623\",\"w624\",\"w625\",\"w626\",\"w627\",\"w628\",\"w629\",\"w630\",\"w631\",\"w632\",\"w633\",\"w634\",\"w635\",\"w636\",\"w637\",\"w638\",\"w639\",\"w640\",\"w641\",\"w642\",\"w643\",\"w644\",\"w645\",\"w646\",\"w647\",\"w648\",\"w649\",\"w650\",\"w651\",\"w652\",\"w653\",\"w654\",\"w655\",\"w656\",\"w657\",\"w658\",\"w659\",\"w660\",\"w661\",\"w662\",\"w663\",\"w664\",\"w665\",\"w666\",\"w667\",\"w668\",\"w669\",\"w670\",\"w671\",\"w672\",\"w673\",\"w674\",\"w675\",\"w676\",\"w677\",\"w678\",\"w679\",\"w680\",\"w681\",\"w682\",\"w683\",\"w684\",\"w685\",\"w686\",\"w687\",\"w688\",\"w689\",\"w690\",\"w691\",\"w692\",\"w693\",\"w694\",\"w695\",\"w696\",\"w697\",\"w698\",\"w699\",\"w700\",\"w701\",\"w702\",\"w703\",\"w704\",\"w705\",\"w706\",\"w707\",\"w708\",\"w709\",\"w710\",\"w711\",\"w712\",\"w713\",\"w714\",\"w715\",\"w716\",\"w717\",\"w718\",\"w719\",\"w720\",\"w721\",\"w722\",\"w723\",\"w724\",\"w725\",\"w726\",\"w727\",\"w728\",\"w729\",\"w730\",\"w731\",\"w732\",\"w733\",\"w734\",\"w735\",\"w736\",\"w737\",\"w738\",\"w739\",\"w740\",\"w741\",\"w742\",\"w743\",\"w744\",\"w745\",\"w746\",\"w747\",\"w748\",\"w749\",\"w750\",\"w751\",\"w752\",\"w753\",\"w754\",\"w755\",\"w756\",\"w757\",\"w758\",\"w759\",\"w760\",\"w761\",\"w762\",\"w763\",\"w764\",\"w765\",\"w766\",\"w767\",\"w768\",\"w769\",\"w770\",\"w771\",\"w772\",\"w773\",\"w774\",\"w775\",\"w776\",\"w777\",\"w778\",\"w779\",\"w780\",\"w781\",\"w782\",\"w783\",\"w784\",\"w785\",\"w786\",\"w787\",\"w788\",\"w789\",\"w790\",\"w791\",\"w792\",\"w793\",\"w794\",\"w795\",\"w796\",\"w797\",\"w798\",\"w799\",\"w800\",\"w801\",\"w802\",\"w803\",\"w804\",\"w805\",\"w806\",\"w807\",\"w808\",\"w809\",\"w810\",\"w811\",\"w812\",\"w813\",\"w814\",\"w815\",\"w816\",\"w817\",\"w818\",\"w819\",\"w820\",\"w821\",\"w822\",\"w823\",\"w824\",\"w825\",\"w826\",\"w827\",\"w828\",\"w829\",\"w830\",\"w831\",\"w832\",\"w833\",\"w834\",\"w835\",\"w836\",\"w837\",\"w838\",\"w839\",\"w840\",\"w841\",\"w842\",\"w843\",\"w844\",\"w845\",\"w846\",\"w847\",\"w848\",\"w849\",\"w850\",\"w851\",\"w852\",\"w853\",\"w854\",\"w855\",\"w856\",\"w857\",\"w858\",\"w859\",\"w860\",\"w861\",\"w862\",\"w863\",\"w864\",\"w865\",\"w866\",\"w867\",\"w868\",\"w869\",\"w870\",\"w871\",\"w872\",\"w873\",\"w874\",\"w875\",\"w876\",\"w877\",\"w878\",\"w879\",\"w880\",\"w881\",\"w882\",\"w883\",\"w884\",\"w885\",\"w886\",\"w887\",\"w888\",\"w889\",\"w890\",\"w891\",\"w892\",\"w893\",\"w894\",\"w895\",\"w896\",\"w897\",\"w898\",\"w899\",\"w900\",\"w901\"]},\"yaxis\":{\"anchor\":\"x\",\"domain\":[0.0,1.0],\"title\":{\"text\":\"y\"}},\"legend\":{\"title\":{\"text\":\"c\"},\"tracegroupgap\":0},\"margin\":{\"t\":60},\"barmode\":\"relative\"},                        {\"responsive\": true}                    ).then(function(){\n",
              "                            \n",
              "var gd = document.getElementById('441024a3-f853-4153-897f-f1629efbc649');\n",
              "var x = new MutationObserver(function (mutations, observer) {{\n",
              "        var display = window.getComputedStyle(gd).display;\n",
              "        if (!display || display === 'none') {{\n",
              "            console.log([gd, 'removed!']);\n",
              "            Plotly.purge(gd);\n",
              "            observer.disconnect();\n",
              "        }}\n",
              "}});\n",
              "\n",
              "// Listen for the removal of the full notebook cells\n",
              "var notebookContainer = gd.closest('#notebook-container');\n",
              "if (notebookContainer) {{\n",
              "    x.observe(notebookContainer, {childList: true});\n",
              "}}\n",
              "\n",
              "// Listen for the clearing of the current output cell\n",
              "var outputEl = gd.closest('.output');\n",
              "if (outputEl) {{\n",
              "    x.observe(outputEl, {childList: true});\n",
              "}}\n",
              "\n",
              "                        })                };                            </script>        </div>\n",
              "</body>\n",
              "</html>"
            ]
          },
          "metadata": {}
        }
      ]
    },
    {
      "cell_type": "markdown",
      "source": [
        "Ну и как видим, большее предпочтение отдано моделям машин, которые составляют большниство фич, и наши новые фичи вообще практически веса не получили, они находятся в самом конце"
      ],
      "metadata": {
        "id": "Uy5hIks0W6zP"
      }
    },
    {
      "cell_type": "markdown",
      "source": [
        "# Вывод"
      ],
      "metadata": {
        "id": "mQT2vTw4XiFo"
      }
    },
    {
      "cell_type": "markdown",
      "source": [
        "- В целом регрессия получилась замечательно, из-за удобства pipeline удалось с лёгсотью использовать и полиномиальные фичи и снижение размерности, посредством чего увеличить точность на целых 6% с уменьшением сложности модели\n",
        "\n",
        "- Логистическую регрессию сложно как-то хорошо настроить, потому что вероятно она работает только на моделях автомобилей и даже не даёт ввеса новым признакам, следовательно предобработка не сделает ничего лучше, только настойка самой модели, которая ничего не дала по итогу."
      ],
      "metadata": {
        "id": "nqQC5BQFXkXK"
      }
    }
  ]
}